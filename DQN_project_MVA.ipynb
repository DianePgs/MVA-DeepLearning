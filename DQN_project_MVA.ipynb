{
  "nbformat": 4,
  "nbformat_minor": 0,
  "metadata": {
    "kernelspec": {
      "display_name": "Python 3",
      "language": "python",
      "name": "python3"
    },
    "language_info": {
      "codemirror_mode": {
        "name": "ipython",
        "version": 3
      },
      "file_extension": ".py",
      "mimetype": "text/x-python",
      "name": "python",
      "nbconvert_exporter": "python",
      "pygments_lexer": "ipython3",
      "version": "3.6.4"
    },
    "colab": {
      "name": "DQN_project_MVA.ipynb",
      "provenance": []
    }
  },
  "cells": [
    {
      "cell_type": "markdown",
      "metadata": {
        "id": "mROjoSokbZyW",
        "colab_type": "text"
      },
      "source": [
        "**You may need to install [OpenCV](https://pypi.python.org/pypi/opencv-python) and [scikit-video](http://www.scikit-video.org/stable/).**"
      ]
    },
    {
      "cell_type": "code",
      "metadata": {
        "id": "1XDCBYbibZy1",
        "colab_type": "code",
        "outputId": "9da03a21-69de-4298-8fd0-5619595b318a",
        "colab": {
          "base_uri": "https://localhost:8080/",
          "height": 84
        }
      },
      "source": [
        "!pip install scikit-video\n",
        "\n",
        "import keras\n",
        "import numpy as np\n",
        "import io\n",
        "import base64\n",
        "from IPython.display import HTML\n",
        "import skvideo.io\n",
        "import cv2\n",
        "import json\n",
        "\n",
        "import random\n",
        "\n",
        "from keras.models import Sequential,model_from_json\n",
        "from keras.layers.core import Dense\n",
        "from keras.optimizers import sgd\n",
        "from keras.layers import Conv2D, MaxPooling2D, Activation, AveragePooling2D,Reshape,BatchNormalization"
      ],
      "execution_count": 24,
      "outputs": [
        {
          "output_type": "stream",
          "text": [
            "Requirement already satisfied: scikit-video in /usr/local/lib/python3.6/dist-packages (1.1.11)\n",
            "Requirement already satisfied: pillow in /usr/local/lib/python3.6/dist-packages (from scikit-video) (6.2.2)\n",
            "Requirement already satisfied: numpy in /usr/local/lib/python3.6/dist-packages (from scikit-video) (1.17.5)\n",
            "Requirement already satisfied: scipy in /usr/local/lib/python3.6/dist-packages (from scikit-video) (1.4.1)\n"
          ],
          "name": "stdout"
        }
      ]
    },
    {
      "cell_type": "markdown",
      "metadata": {
        "id": "fFNeFVRgbZzw",
        "colab_type": "text"
      },
      "source": [
        "# MiniProject on Deep Reinforcement Learning"
      ]
    },
    {
      "cell_type": "markdown",
      "metadata": {
        "id": "ZnVLI516bZ0Q",
        "colab_type": "text"
      },
      "source": [
        "__Notations__: $E_p$ is the expectation under probability $p$. Please justify each of your answer and widely comment your code."
      ]
    },
    {
      "cell_type": "markdown",
      "metadata": {
        "id": "0vqkQvL6bZ0b",
        "colab_type": "text"
      },
      "source": [
        "# Context"
      ]
    },
    {
      "cell_type": "markdown",
      "metadata": {
        "id": "fr7sx-pObZ0k",
        "colab_type": "text"
      },
      "source": [
        "In a reinforcement learning algorithm, we modelize each step $t$ as an action $a_t$ obtained from a state $s_t$, i.e. $\\{(a_{t},s_{t})_{t\\leq T}\\}$ having the Markov property. We consider a discount factor $\\gamma \\in [0,1]$ that ensures convergence. The goal is to find among all the policies $\\pi$, one that maximizes the expected reward:\n",
        "\n",
        "\\begin{equation*}\n",
        "R(\\pi)=\\sum_{t\\leq T}E_{p^{\\pi}}[\\gamma^t r(s_{t},a_{t})] \\> ,\n",
        "\\end{equation*}\n",
        "\n",
        "where: \n",
        "\\begin{equation*}p^{\\pi}(a_{0},a_{1},s_{1},...,a_{T},s_{T})=p(a_{0})\\prod_{t=1}^{T}\\pi(a_{t}|s_{t})p(s_{t+1}|s_{t},a_{t}) \\> .\n",
        "\\end{equation*}\n",
        "\n",
        "We note the $Q$-function:\n",
        "\n",
        "\\begin{equation*}Q^\\pi(s,a)=E_{p^{\\pi}}[\\sum_{t\\leq T}\\gamma^{t}r(s_{t},a_{t})|s_{0}=s,a_{0}=a] \\> .\n",
        "\\end{equation*}\n",
        "\n",
        "Thus, the optimal Q function is:\n",
        "\\begin{equation*}\n",
        "Q^*(s,a)=\\max_{\\pi}Q^\\pi(s,a) \\> .\n",
        "\\end{equation*}\n",
        "\n",
        "In this project, we will apply the deep reinforcement learning techniques to a simple game: an agent will have to learn from scratch a policy that will permit it maximizing a reward."
      ]
    },
    {
      "cell_type": "markdown",
      "metadata": {
        "id": "DK8WVR-ubZ0q",
        "colab_type": "text"
      },
      "source": [
        "## The environment, the agent and the game"
      ]
    },
    {
      "cell_type": "markdown",
      "metadata": {
        "id": "0KElPd_BbZ0w",
        "colab_type": "text"
      },
      "source": [
        "### The environment"
      ]
    },
    {
      "cell_type": "markdown",
      "metadata": {
        "id": "tzxvSfLCbZ0z",
        "colab_type": "text"
      },
      "source": [
        "```Environment``` is an abstract class that represents the states, rewards, and actions to obtain the new state."
      ]
    },
    {
      "cell_type": "code",
      "metadata": {
        "id": "j2wKSPxfbZ04",
        "colab_type": "code",
        "colab": {}
      },
      "source": [
        "class Environment(object):\n",
        "    def __init__(self):\n",
        "        pass\n",
        "\n",
        "    def act(self, act):\n",
        "        \"\"\"\n",
        "        One can act on the environment and obtain its reaction:\n",
        "        - the new state\n",
        "        - the reward of the new state\n",
        "        - should we continue the game?\n",
        "\n",
        "        :return: state, reward, game_over\n",
        "        \"\"\"\n",
        "        pass\n",
        "\n",
        "\n",
        "    def reset(self):\n",
        "        \"\"\"\n",
        "        Reinitialize the environment to a random state and returns\n",
        "        the original state\n",
        "\n",
        "        :return: state\n",
        "        \"\"\"\n",
        "        pass\n",
        "    \n",
        "    def draw(self):\n",
        "        \"\"\"\n",
        "        Visualize in the console or graphically the current state\n",
        "        \"\"\"\n",
        "        pass"
      ],
      "execution_count": 0,
      "outputs": []
    },
    {
      "cell_type": "markdown",
      "metadata": {
        "id": "AXTKqg97bZ1D",
        "colab_type": "text"
      },
      "source": [
        "The method ```act``` allows to act on the environment at a given state $s_t$ (stored internally), via action $a_t$. The method will return the new state $s_{t+1}$, the reward $r(s_{t},a_{t})$ and determines if $t\\leq T$ (*game_over*).\n",
        "\n",
        "The method ```reset``` simply reinitializes the environment to a random state $s_0$.\n",
        "\n",
        "The method ```draw``` displays the current state $s_t$ (this is useful to check the behavior of the Agent).\n",
        "\n",
        "We modelize $s_t$ as a tensor, while $a_t$ is an integer."
      ]
    },
    {
      "cell_type": "markdown",
      "metadata": {
        "id": "D34qCJyjbZ1H",
        "colab_type": "text"
      },
      "source": [
        "### The Agent"
      ]
    },
    {
      "cell_type": "markdown",
      "metadata": {
        "id": "wdvElIiObZ1L",
        "colab_type": "text"
      },
      "source": [
        "The goal of the ```Agent``` is to interact with the ```Environment``` by proposing actions $a_t$ obtained from a given state $s_t$ to attempt to maximize its __reward__ $r(s_t,a_t)$. We propose the following abstract class:"
      ]
    },
    {
      "cell_type": "code",
      "metadata": {
        "id": "AmjTWkDCbZ1O",
        "colab_type": "code",
        "colab": {}
      },
      "source": [
        "class Agent(object):\n",
        "    def __init__(self, epsilon=0.1, n_action=4):\n",
        "        self.epsilon = epsilon\n",
        "        self.n_action = n_action\n",
        "    \n",
        "    def set_epsilon(self,e):\n",
        "        self.epsilon = e\n",
        "\n",
        "    def act(self,s,train=True):\n",
        "        \"\"\" This function should return the next action to do:\n",
        "        an integer between 0 and 4 (not included) with a random exploration of epsilon\"\"\"\n",
        "        if train:\n",
        "            if np.random.rand() <= self.epsilon:\n",
        "                a = np.random.randint(0, self.n_action, size=1)[0]\n",
        "            else:\n",
        "                a = self.learned_act(s)\n",
        "        else: # in some cases, this can improve the performance.. remove it if poor performances\n",
        "            a = self.learned_act(s)\n",
        "\n",
        "        return a\n",
        "\n",
        "    def learned_act(self,s):\n",
        "        \"\"\" Act via the policy of the agent, from a given state s\n",
        "        it proposes an action a\"\"\"\n",
        "        pass\n",
        "\n",
        "    def reinforce(self, s, n_s, a, r, game_over_):\n",
        "        \"\"\" This function is the core of the learning algorithm. \n",
        "        It takes as an input the current state s_, the next state n_s_\n",
        "        the action a_ used to move from s_ to n_s_ and the reward r_.\n",
        "        \n",
        "        Its goal is to learn a policy.\n",
        "        \"\"\"\n",
        "        pass\n",
        "\n",
        "    def save(self):\n",
        "        \"\"\" This function returns basic stats if applicable: the\n",
        "        loss and/or the model\"\"\"\n",
        "        pass\n",
        "\n",
        "    def load(self):\n",
        "        \"\"\" This function allows to restore a model\"\"\"\n",
        "        pass"
      ],
      "execution_count": 0,
      "outputs": []
    },
    {
      "cell_type": "markdown",
      "metadata": {
        "id": "pzAuaBfCbZ1Z",
        "colab_type": "text"
      },
      "source": [
        "***\n",
        "__Question 1__:\n",
        "Explain the function act. Why is ```epsilon``` essential?"
      ]
    },
    {
      "cell_type": "markdown",
      "metadata": {
        "id": "DWY7Dp37bZ1b",
        "colab_type": "text"
      },
      "source": [
        "The agent follows the optimal policy with probability 1-epsilon, otherwise it explores a random state with probability epsilon. This allows it to explore the entire environment and limits the probability of getting stuck in local minima."
      ]
    },
    {
      "cell_type": "markdown",
      "metadata": {
        "id": "U3DgZ2_6bZ1d",
        "colab_type": "text"
      },
      "source": [
        "***\n",
        "### The Game"
      ]
    },
    {
      "cell_type": "markdown",
      "metadata": {
        "id": "Q-niVDvxbZ1g",
        "colab_type": "text"
      },
      "source": [
        "The ```Agent``` and the ```Environment``` work in an interlaced way as in the following (take some time to understand this code as it is the core of the project)\n",
        "\n",
        "```python\n",
        "\n",
        "epoch = 300\n",
        "env = Environment()\n",
        "agent = Agent()\n",
        "\n",
        "\n",
        "# Number of won games\n",
        "score = 0\n",
        "loss = 0\n",
        "\n",
        "\n",
        "for e in range(epoch):\n",
        "    # At each epoch, we restart to a fresh game and get the initial state\n",
        "    state = env.reset()\n",
        "    # This assumes that the games will end\n",
        "    game_over = False\n",
        "\n",
        "    win = 0\n",
        "    lose = 0\n",
        "    \n",
        "    while not game_over:\n",
        "        # The agent performs an action\n",
        "        action = agent.act(state)\n",
        "\n",
        "        # Apply an action to the environment, get the next state, the reward\n",
        "        # and if the games end\n",
        "        prev_state = state\n",
        "        state, reward, game_over = env.act(action)\n",
        "\n",
        "        # Update the counters\n",
        "        if reward > 0:\n",
        "            win = win + reward\n",
        "        if reward < 0:\n",
        "            lose = lose -reward\n",
        "\n",
        "        # Apply the reinforcement strategy\n",
        "        loss = agent.reinforce(prev_state, state,  action, reward, game_over)\n",
        "\n",
        "    # Save as a mp4\n",
        "    if e % 10 == 0:\n",
        "        env.draw(e)\n",
        "\n",
        "    # Update stats\n",
        "    score += win-lose\n",
        "\n",
        "    print(\"Epoch {:03d}/{:03d} | Loss {:.4f} | Win/lose count {}/{} ({})\"\n",
        "          .format(e, epoch, loss, win, lose, win-lose))\n",
        "    agent.save()\n",
        "```"
      ]
    },
    {
      "cell_type": "markdown",
      "metadata": {
        "id": "M5rLVS0JbZ1i",
        "colab_type": "text"
      },
      "source": [
        "# The game, *eat cheese*"
      ]
    },
    {
      "cell_type": "markdown",
      "metadata": {
        "id": "a99W2YxxbZ1k",
        "colab_type": "text"
      },
      "source": [
        "A rat runs on an island and tries to eat as much as possible. The island is subdivided into $N\\times N$ cells, in which there are cheese (+0.5) and poisonous cells (-1). The rat has a visibility of 2 cells (thus it can see $5^2$ cells). The rat is given a time $T$ to accumulate as much food as possible. It can perform 4 actions: going up, down, left, right. \n",
        "\n",
        "The goal is to code an agent to solve this task that will learn by trial and error. We propose the following environment:"
      ]
    },
    {
      "cell_type": "code",
      "metadata": {
        "id": "AGdGAPJobZ1m",
        "colab_type": "code",
        "colab": {}
      },
      "source": [
        "class Environment(object):\n",
        "    def __init__(self, grid_size=10, max_time=500, temperature=0.3):\n",
        "        grid_size = grid_size+4\n",
        "        self.grid_size = grid_size\n",
        "        self.max_time = max_time\n",
        "        self.temperature = temperature\n",
        "\n",
        "        #board on which one plays\n",
        "        self.board = np.zeros((grid_size,grid_size))\n",
        "        self.position = np.zeros((grid_size,grid_size))\n",
        "\n",
        "        # coordinate of the cat\n",
        "        self.x = 0\n",
        "        self.y = 1\n",
        "\n",
        "        # self time\n",
        "        self.t = 0\n",
        "\n",
        "        self.scale=16\n",
        "\n",
        "        self.to_draw = np.zeros((max_time+2, grid_size*self.scale, grid_size*self.scale, 3))\n",
        "\n",
        "\n",
        "    def draw(self,e):\n",
        "        skvideo.io.vwrite(str(e) + '.mp4', self.to_draw)\n",
        "\n",
        "    def get_frame(self,t):\n",
        "        b = np.zeros((self.grid_size,self.grid_size,3))+128\n",
        "        b[self.board>0,0] = 256\n",
        "        b[self.board < 0, 2] = 256\n",
        "        b[self.x,self.y,:]=256\n",
        "        b[-2:,:,:]=0\n",
        "        b[:,-2:,:]=0\n",
        "        b[:2,:,:]=0\n",
        "        b[:,:2,:]=0\n",
        "        \n",
        "        b =  cv2.resize(b, None, fx=self.scale, fy=self.scale, interpolation=cv2.INTER_NEAREST)\n",
        "\n",
        "        self.to_draw[t,:,:,:]=b\n",
        "\n",
        "\n",
        "    def act(self, action):\n",
        "        \"\"\"This function returns the new state, reward and decides if the\n",
        "        game ends.\"\"\"\n",
        "\n",
        "        self.get_frame(int(self.t))\n",
        "\n",
        "        self.position = np.zeros((self.grid_size, self.grid_size))\n",
        "\n",
        "        self.position[0:2,:]= -1\n",
        "        self.position[:,0:2] = -1\n",
        "        self.position[-2:, :] = -1\n",
        "        self.position[-2:, :] = -1\n",
        "\n",
        "        self.position[self.x, self.y] = 1\n",
        "        if action == 0:\n",
        "            if self.x == self.grid_size-3:\n",
        "                self.x = self.x-1\n",
        "            else:\n",
        "                self.x = self.x + 1\n",
        "        elif action == 1:\n",
        "            if self.x == 2:\n",
        "                self.x = self.x+1\n",
        "            else:\n",
        "                self.x = self.x-1\n",
        "        elif action == 2:\n",
        "            if self.y == self.grid_size - 3:\n",
        "                self.y = self.y - 1\n",
        "            else:\n",
        "                self.y = self.y + 1\n",
        "        elif action == 3:\n",
        "            if self.y == 2:\n",
        "                self.y = self.y + 1\n",
        "            else:\n",
        "                self.y = self.y - 1\n",
        "        else:\n",
        "            RuntimeError('Error: action not recognized')\n",
        "\n",
        "        self.t = self.t + 1\n",
        "        reward = self.board[self.x, self.y]\n",
        "        self.board[self.x, self.y] = 0\n",
        "        game_over = self.t > self.max_time\n",
        "        state = np.concatenate((self.board.reshape(self.grid_size, self.grid_size,1),\n",
        "                        self.position.reshape(self.grid_size, self.grid_size,1)),axis=2)\n",
        "        state = state[self.x-2:self.x+3,self.y-2:self.y+3,:]\n",
        "\n",
        "        return state, reward, game_over\n",
        "\n",
        "    def reset(self):\n",
        "        \"\"\"This function resets the game and returns the initial state\"\"\"\n",
        "\n",
        "        self.x = np.random.randint(3, self.grid_size-3, size=1)[0]\n",
        "        self.y = np.random.randint(3, self.grid_size-3, size=1)[0]\n",
        "\n",
        "\n",
        "        bonus = 0.5*np.random.binomial(1,self.temperature,size=self.grid_size**2)\n",
        "        bonus = bonus.reshape(self.grid_size,self.grid_size)\n",
        "\n",
        "        malus = -1.0*np.random.binomial(1,self.temperature,size=self.grid_size**2)\n",
        "        malus = malus.reshape(self.grid_size, self.grid_size)\n",
        "\n",
        "        self.to_draw = np.zeros((self.max_time+2, self.grid_size*self.scale, self.grid_size*self.scale, 3))\n",
        "\n",
        "\n",
        "        malus[bonus>0]=0\n",
        "\n",
        "        self.board = bonus + malus\n",
        "\n",
        "        self.position = np.zeros((self.grid_size, self.grid_size))\n",
        "        self.position[0:2,:]= -1\n",
        "        self.position[:,0:2] = -1\n",
        "        self.position[-2:, :] = -1\n",
        "        self.position[-2:, :] = -1\n",
        "        self.board[self.x,self.y] = 0\n",
        "        self.t = 0\n",
        "\n",
        "        state = np.concatenate((\n",
        "                               self.board.reshape(self.grid_size, self.grid_size,1),\n",
        "                        self.position.reshape(self.grid_size, self.grid_size,1)),axis=2)\n",
        "\n",
        "        state = state[self.x - 2:self.x + 3, self.y - 2:self.y + 3, :]\n",
        "        return state"
      ],
      "execution_count": 0,
      "outputs": []
    },
    {
      "cell_type": "markdown",
      "metadata": {
        "id": "9a3tHAstbZ13",
        "colab_type": "text"
      },
      "source": [
        "The following elements are important because they correspond to the hyper parameters for this project:"
      ]
    },
    {
      "cell_type": "code",
      "metadata": {
        "id": "Wl0MhHKBbZ16",
        "colab_type": "code",
        "colab": {}
      },
      "source": [
        "# parameters\n",
        "size = 13\n",
        "T=200\n",
        "temperature=0.3\n",
        "epochs_train=200 # set small when debugging\n",
        "epochs_test=30 # set small when debugging\n",
        "\n",
        "# display videos\n",
        "def display_videos(name):\n",
        "    video = io.open(name, 'r+b').read()\n",
        "    encoded = base64.b64encode(video)\n",
        "    return '''<video alt=\"test\" controls>\n",
        "                <source src=\"data:video/mp4;base64,{0}\" type=\"video/mp4\" />\n",
        "             </video>'''.format(encoded.decode('ascii'))"
      ],
      "execution_count": 0,
      "outputs": []
    },
    {
      "cell_type": "markdown",
      "metadata": {
        "id": "DHLOWbWLbZ2C",
        "colab_type": "text"
      },
      "source": [
        "__Question 2__ Explain the use of the arrays ```position``` and ```board```."
      ]
    },
    {
      "cell_type": "markdown",
      "metadata": {
        "id": "ewe6h-AHbZ2E",
        "colab_type": "text"
      },
      "source": [
        "The array *position* represents the grid set, where all the empy cells (i,j) have value *0*, and the cell on which is the agent has value *1*. \\\\\n",
        "\n",
        "The *board* array functions in a similar manner, representing the reward (positive or negative) obtained by the agent when landing on the cell : 0,5 if it contains cheese, -1 if it contains poison, 0 otherwise."
      ]
    },
    {
      "cell_type": "markdown",
      "metadata": {
        "id": "DIHwCqMkbZ2G",
        "colab_type": "text"
      },
      "source": [
        "## Random Agent"
      ]
    },
    {
      "cell_type": "markdown",
      "metadata": {
        "id": "qxDhuWt2bZ2H",
        "colab_type": "text"
      },
      "source": [
        "***\n",
        "__Question 3__ Implement a random Agent (only ```learned_act``` needs to be implemented):"
      ]
    },
    {
      "cell_type": "code",
      "metadata": {
        "id": "qDhGQMc7bZ2J",
        "colab_type": "code",
        "colab": {}
      },
      "source": [
        "class RandomAgent(Agent):\n",
        "    def __init__(self):\n",
        "        super(RandomAgent, self).__init__()\n",
        "        pass\n",
        "\n",
        "    def learned_act(self, s):\n",
        "        return np.random.randint(0, self.n_action)\n"
      ],
      "execution_count": 0,
      "outputs": []
    },
    {
      "cell_type": "markdown",
      "metadata": {
        "id": "7HWuvyFQbZ2R",
        "colab_type": "text"
      },
      "source": [
        "***\n",
        "***\n",
        "__Question 4__ Visualize the game moves. You need to fill in the following function for the evaluation:"
      ]
    },
    {
      "cell_type": "code",
      "metadata": {
        "id": "uKFvaKxmbZ2T",
        "colab_type": "code",
        "colab": {}
      },
      "source": [
        "def test(agent,env,epochs,prefix=''):\n",
        "    # Number of won games\n",
        "    score = 0\n",
        "        \n",
        "    for e in range(epochs):\n",
        "        \n",
        "        state = env.reset()\n",
        "        game_over = False\n",
        "        \n",
        "        win = 0\n",
        "        lose = 0\n",
        "\n",
        "        while not game_over:\n",
        "\n",
        "            action = agent.act(state)\n",
        "            state, reward, game_over = env.act(action)\n",
        "            if reward > 0:\n",
        "                win = win + reward\n",
        "            if reward < 0:\n",
        "                lose = lose - reward\n",
        "        \n",
        "        \n",
        "        # Save as a mp4\n",
        "        env.draw(prefix+str(e))\n",
        "\n",
        "        # Update stats\n",
        "        score = score + win-lose\n",
        "\n",
        "        print(\"Win/lose count {}/{}. Average score ({})\"\n",
        "              .format(win, lose, score/(1+e)))\n",
        "    print('Final score: '+str(score/epochs))"
      ],
      "execution_count": 0,
      "outputs": []
    },
    {
      "cell_type": "code",
      "metadata": {
        "id": "seCBmpq4bZ2c",
        "colab_type": "code",
        "outputId": "aec1d66e-8189-48cc-fc92-775729ce9937",
        "colab": {
          "base_uri": "https://localhost:8080/",
          "height": 692
        }
      },
      "source": [
        "# Initialize the game\n",
        "env = Environment(grid_size=size, max_time=T,temperature=temperature)\n",
        "\n",
        "# Initialize the agent!\n",
        "agent = RandomAgent()\n",
        "\n",
        "test(agent,env,epochs_test,prefix='random')\n",
        "HTML(display_videos('random0.mp4'))"
      ],
      "execution_count": 31,
      "outputs": [
        {
          "output_type": "stream",
          "text": [
            "Win/lose count 12.0/16.0. Average score (-4.0)\n",
            "Win/lose count 9.0/14.0. Average score (-4.5)\n",
            "Win/lose count 8.5/10.0. Average score (-3.5)\n",
            "Win/lose count 9.5/9.0. Average score (-2.5)\n",
            "Win/lose count 8.0/16.0. Average score (-3.6)\n",
            "Win/lose count 12.0/11.0. Average score (-2.8333333333333335)\n",
            "Win/lose count 10.0/16.0. Average score (-3.2857142857142856)\n",
            "Win/lose count 10.5/17.0. Average score (-3.6875)\n",
            "Win/lose count 7.0/13.0. Average score (-3.9444444444444446)\n",
            "Win/lose count 6.5/17.0. Average score (-4.6)\n",
            "Win/lose count 8.5/13.0. Average score (-4.590909090909091)\n",
            "Win/lose count 9.5/18.0. Average score (-4.916666666666667)\n",
            "Win/lose count 10.0/18.0. Average score (-5.153846153846154)\n",
            "Win/lose count 13.5/15.0. Average score (-4.892857142857143)\n",
            "Win/lose count 11.0/17.0. Average score (-4.966666666666667)\n",
            "Win/lose count 8.0/11.0. Average score (-4.84375)\n",
            "Win/lose count 9.0/10.0. Average score (-4.617647058823529)\n",
            "Win/lose count 8.5/5.0. Average score (-4.166666666666667)\n",
            "Win/lose count 11.5/8.0. Average score (-3.763157894736842)\n",
            "Win/lose count 9.5/15.0. Average score (-3.85)\n",
            "Win/lose count 6.0/9.0. Average score (-3.8095238095238093)\n",
            "Win/lose count 9.0/14.0. Average score (-3.8636363636363638)\n",
            "Win/lose count 10.5/16.0. Average score (-3.9347826086956523)\n",
            "Win/lose count 8.0/19.0. Average score (-4.229166666666667)\n",
            "Win/lose count 5.5/14.0. Average score (-4.4)\n",
            "Win/lose count 10.5/18.0. Average score (-4.519230769230769)\n",
            "Win/lose count 8.5/11.0. Average score (-4.444444444444445)\n",
            "Win/lose count 4.5/8.0. Average score (-4.410714285714286)\n",
            "Win/lose count 10.5/23.0. Average score (-4.689655172413793)\n",
            "Win/lose count 9.0/5.0. Average score (-4.4)\n",
            "Final score: -4.4\n"
          ],
          "name": "stdout"
        },
        {
          "output_type": "execute_result",
          "data": {
            "text/html": [
              "<video alt=\"test\" controls>\n",
              "                <source src=\"data:video/mp4;base64,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\" type=\"video/mp4\" />\n",
              "             </video>"
            ],
            "text/plain": [
              "<IPython.core.display.HTML object>"
            ]
          },
          "metadata": {
            "tags": []
          },
          "execution_count": 31
        }
      ]
    },
    {
      "cell_type": "markdown",
      "metadata": {
        "id": "nlNqGGAQbZ2m",
        "colab_type": "text"
      },
      "source": [
        "***\n",
        "## DQN"
      ]
    },
    {
      "cell_type": "markdown",
      "metadata": {
        "id": "RS5WgOUYbZ2o",
        "colab_type": "text"
      },
      "source": [
        "Let us assume here that $T=\\infty$.\n",
        "\n",
        "***\n",
        "__Question 5__ Let $\\pi$ be a policy, show that:\n",
        "\n",
        "\\begin{equation*}\n",
        "Q^{\\pi}(s,a)=E_{(s',a')\\sim p(.|s,a)}[r(s,a)+\\gamma Q^{\\pi}(s',a')]\n",
        "\\end{equation*}\n",
        "\n",
        "Then, show that for the optimal policy $\\pi^*$ (we assume its existence), the following holds: \n",
        "\n",
        "\\begin{equation*}\n",
        "Q^{*}(s,a)=E_{s'\\sim \\pi^*(.|s,a)}[r(s,a)+\\gamma\\max_{a'}Q^{*}(s',a')].\n",
        "\\end{equation*}\n",
        "Finally, deduce that a plausible objective is:\n",
        "\n",
        "\\begin{equation*}\n",
        "\\mathcal{L}(\\theta)=E_{s' \\sim \\pi^*(.|s,a)}\\Vert r+\\gamma\\max\\max_{a'}Q(s',a',\\theta)-Q(s,a,\\theta)\\Vert^{2}.\n",
        "\\end{equation*}\n",
        "\n",
        "\n"
      ]
    },
    {
      "cell_type": "markdown",
      "metadata": {
        "id": "vViONhsfbZ2q",
        "colab_type": "text"
      },
      "source": [
        "We have :\n",
        "\n",
        "\\begin{equation*}\n",
        "Q^{\\pi}(s,a)=r(s,a) + \\gamma \\mathbb{E}_{p^\\pi}[\\sum \\limits _{t=1} \\gamma ^{t-1}r(s_t, a_t)|s_1 = s, a_1 = a] \\\\\n",
        "= r(s,a) + \\mathbb{E}_{(s',a')\\sim p(.|s,a)}[\\mathbb{E}_{p^\\pi} [\\sum \\limits _{t=0} \\gamma^tr(s_t, a_t)|s_0 = s', a_0 = a']] \\\\\n",
        "= \\mathbb{E}_{(s',a')\\sim p(.|s,a)}[r(s,a)+\\gamma Q^{\\pi}(s',a')]\n",
        "\\end{equation*}\n",
        "\n",
        "Then, we have :\n",
        "\n",
        "\\begin{equation*}\n",
        "Q^{*}(s,a)= \\max \\limits _{\\pi} Q^\\pi (s,a) \\\\\n",
        "= r(s,a) + \\gamma \\mathbb{E}_{(s',a')\\sim p^{\\pi^*}(s,a)}[Q^{\\pi^*} (s,a)] \\\\\n",
        "= \\mathbb{E}_{s'\\sim \\pi^*(.|s,a)}[r(s,a)+\\gamma\\max_{a'}Q^{*}(s',a')].\n",
        "\\end{equation*}\n",
        "\n",
        "By contruction of the optimal policy $\\pi^*$.\n",
        "\n",
        "Finally, we observe that the Bellman arror between the left and right sides of these equations is an indicator of the gap between the obtained policy and the optimal one. We can then define a plausible objective :\n",
        "\n",
        "\\begin{equation*}\n",
        "\\mathcal{L}(\\theta)=E_{s' \\sim \\pi^*(.|s,a)}\\Vert r+\\gamma\\max\\max_{a'}Q(s',a',\\theta)-Q(s,a,\\theta)\\Vert^{2}.\n",
        "\\end{equation*}"
      ]
    },
    {
      "cell_type": "markdown",
      "metadata": {
        "id": "w8yJDlcGbZ2r",
        "colab_type": "text"
      },
      "source": [
        "***\n",
        "The DQN-learning algorithm relies on these derivations to train the parameters $\\theta$ of a Deep Neural Network:\n",
        "\n",
        "1. At the state $s_t$, select the action $a_t$ with best reward using $Q_t$ and store the results;\n",
        "\n",
        "2. Obtain the new state $s_{t+1}$ from the environment $p$;\n",
        "\n",
        "3. Store $(s_t,a_t,s_{t+1})$;\n",
        "\n",
        "4. Obtain $Q_{t+1}$ by minimizing  $\\mathcal{L}$ from a recovered batch from the previously stored results.\n",
        "\n",
        "***\n",
        "__Question 6__ Implement the class ```Memory``` that stores moves (in a replay buffer) via ```remember``` and provides a ```random_access``` to these. Specify a maximum memory size to avoid side effects. You can for example use a ```list()``` and set by default ```max_memory=100```."
      ]
    },
    {
      "cell_type": "code",
      "metadata": {
        "id": "VATkaU_GbZ2t",
        "colab_type": "code",
        "colab": {}
      },
      "source": [
        "class Memory(object):\n",
        "    def __init__(self, max_memory=100):\n",
        "        self.max_memory = max_memory\n",
        "        self.memory = list()\n",
        "\n",
        "    def remember(self, m):\n",
        "        if len(self.memory) <= self.max_memory:\n",
        "            self.memory.append(m)\n",
        "        else:\n",
        "            self.memory.pop(0)\n",
        "\n",
        "    def random_access(self):\n",
        "        return random.choices(self.memory)"
      ],
      "execution_count": 0,
      "outputs": []
    },
    {
      "cell_type": "markdown",
      "metadata": {
        "id": "-oE9bH6RbZ21",
        "colab_type": "text"
      },
      "source": [
        "***\n",
        "The pipeline we will use for training is given below:"
      ]
    },
    {
      "cell_type": "code",
      "metadata": {
        "id": "c--toAVCbZ23",
        "colab_type": "code",
        "colab": {}
      },
      "source": [
        "def train(agent,env,epoch,prefix=''):\n",
        "    # Number of won games\n",
        "    score = 0\n",
        "    loss = 0\n",
        "\n",
        "    for e in range(epoch):\n",
        "        # At each epoch, we restart to a fresh game and get the initial state\n",
        "        state = env.reset()\n",
        "        # This assumes that the games will terminate\n",
        "        game_over = False\n",
        "\n",
        "        win = 0\n",
        "        lose = 0\n",
        "\n",
        "        while not game_over:\n",
        "            # The agent performs an action\n",
        "            action = agent.act(state)\n",
        "\n",
        "            # Apply an action to the environment, get the next state, the reward\n",
        "            # and if the games end\n",
        "            prev_state = state\n",
        "            state, reward, game_over = env.act(action)\n",
        "\n",
        "            # Update the counters\n",
        "            if reward > 0:\n",
        "                win = win + reward\n",
        "            if reward < 0:\n",
        "                lose = lose -reward\n",
        "\n",
        "            # Apply the reinforcement strategy\n",
        "            loss = agent.reinforce(prev_state, state,  action, reward, game_over)\n",
        "\n",
        "        # Save as a mp4\n",
        "        if e % 10 == 0:\n",
        "            env.draw(prefix+str(e))\n",
        "\n",
        "        # Update stats\n",
        "        score += win-lose\n",
        "\n",
        "        print(\"Epoch {:03d}/{:03d} | Loss {:.4f} | Win/lose count {}/{} ({})\"\n",
        "              .format(e, epoch, loss, win, lose, win-lose))\n",
        "        agent.save(name_weights=prefix+'model.h5',name_model=prefix+'model.json')"
      ],
      "execution_count": 0,
      "outputs": []
    },
    {
      "cell_type": "markdown",
      "metadata": {
        "id": "bKxvJ5LebZ3B",
        "colab_type": "text"
      },
      "source": [
        "***\n",
        "__Question 7__ Implement the DQN training algorithm using a cascade of fully connected layers. You can use different learning rate, batch size or memory size parameters. In particular, the loss might oscillate while the player will start to win the games. You have to find a good criterium."
      ]
    },
    {
      "cell_type": "code",
      "metadata": {
        "id": "I5EEJW8CbZ3D",
        "colab_type": "code",
        "colab": {}
      },
      "source": [
        "class DQN(Agent):\n",
        "    def __init__(self, grid_size,  epsilon = 0.1, memory_size=100, batch_size = 16,n_state=2):\n",
        "        super(DQN, self).__init__(epsilon = epsilon)\n",
        "\n",
        "        # Discount for Q learning\n",
        "        self.discount = 0.99\n",
        "        \n",
        "        self.grid_size = grid_size\n",
        "        \n",
        "        # number of state\n",
        "        self.n_state = n_state\n",
        "\n",
        "        # Memory\n",
        "        self.memory = Memory(memory_size)\n",
        "        \n",
        "        # Batch size when learning\n",
        "        self.batch_size = batch_size\n",
        "\n",
        "    def learned_act(self, s):\n",
        "        return np.argmax(self.model.predict(s[None]))\n",
        "\n",
        "    def reinforce(self, s_, n_s_, a_, r_, game_over_):\n",
        "        # Two steps: first memorize the states, second learn from the pool\n",
        "\n",
        "        self.memory.remember([s_, n_s_, a_, r_, game_over_])\n",
        "        \n",
        "        input_states = np.zeros((self.batch_size, 5,5,self.n_state))\n",
        "        target_q = np.zeros((self.batch_size, 4))\n",
        "\n",
        "        # Keep track of the actions, next actions, rewards, game overs\n",
        "\n",
        "        next_states = np.zeros((self.batch_size, 5,5,self.n_state))\n",
        "\n",
        "        past_actions = []\n",
        "        past_rewards = []\n",
        "        past_game_overs = []\n",
        "        \n",
        "        for i in range(self.batch_size):\n",
        "\n",
        "            s_, n_s_, a_, r_, game_over_ = self.memory.random_access()[0]\n",
        "\n",
        "            input_states[i] = s_\n",
        "            next_states[i] = n_s_\n",
        "            past_actions.append(a_)\n",
        "            past_rewards.append(r_)\n",
        "            past_game_overs.append(game_over_)\n",
        "\n",
        "        # Compute Q function for current and next state\n",
        "        target_q[:] = self.model.predict(input_states)\n",
        "        q_pred= self.model.predict(next_states)\n",
        "\n",
        "        for i in range(self.batch_size):\n",
        "\n",
        "            if game_over_:\n",
        "                # Last step, no further actions to take into account\n",
        "                target_q[i, past_actions[i]] = past_rewards[i]\n",
        "            else:\n",
        "              # Take into account q value of next state\n",
        "                target_q[i, past_actions[i]] = past_rewards[i] + np.max(self.discount*q_pred[i])\n",
        "\n",
        "        # HINT: Clip the target to avoid exploiding gradients.. -- clipping is a bit tighter\n",
        "        target_q = np.clip(target_q, -3, 3)\n",
        "\n",
        "        l = self.model.train_on_batch(input_states, target_q)\n",
        "\n",
        "\n",
        "        return l\n",
        "\n",
        "    def save(self,name_weights='model.h5',name_model='model.json'):\n",
        "        self.model.save_weights(name_weights, overwrite=True)\n",
        "        with open(name_model, \"w\") as outfile:\n",
        "            json.dump(self.model.to_json(), outfile)\n",
        "            \n",
        "    def load(self,name_weights='model.h5',name_model='model.json'):\n",
        "        with open(name_model, \"r\") as jfile:\n",
        "            model = model_from_json(json.load(jfile))\n",
        "        model.load_weights(name_weights)\n",
        "        model.compile(\"sgd\", \"mse\")\n",
        "        self.model = model\n",
        "\n",
        "            \n",
        "class DQN_FC(DQN):\n",
        "    def __init__(self, *args, lr=0.1,**kwargs):\n",
        "        super(DQN_FC, self).__init__( *args,**kwargs)\n",
        "        \n",
        "        # NN Model\n",
        "        size = args[0]\n",
        "        hid_size = 16\n",
        "        \n",
        "        input_shape = (5, 5, self.n_state)\n",
        "\n",
        "        model = Sequential()\n",
        "        model.add(keras.layers.Flatten(input_shape=input_shape))\n",
        "        model.add(Dense(hid_size, activation='relu'))\n",
        "        model.add(Dense(hid_size, activation='relu'))\n",
        "        model.add(Dense(self.n_action))\n",
        "                \n",
        "        model.compile(keras.optimizers.adam(lr=lr), \"mse\")\n",
        "        self.model = model\n",
        "        "
      ],
      "execution_count": 0,
      "outputs": []
    },
    {
      "cell_type": "code",
      "metadata": {
        "id": "wFycCriObZ3M",
        "colab_type": "code",
        "outputId": "1af09604-2b9a-4591-90ed-832add1cf6e5",
        "colab": {
          "base_uri": "https://localhost:8080/",
          "height": 1000
        }
      },
      "source": [
        "env = Environment(grid_size=size, max_time=T, temperature=0.3)\n",
        "agent = DQN_FC(size, lr=.1, epsilon = 0.1, memory_size=2000, batch_size = 32)\n",
        "train(agent, env, epochs_train, prefix='fc_train')\n",
        "HTML(display_videos('fc_train10.mp4'))"
      ],
      "execution_count": 35,
      "outputs": [
        {
          "output_type": "stream",
          "text": [
            "Epoch 000/200 | Loss 0.0148 | Win/lose count 7.5/13.0 (-5.5)\n",
            "Epoch 001/200 | Loss 0.0021 | Win/lose count 15.0/13.0 (2.0)\n",
            "Epoch 002/200 | Loss 0.0097 | Win/lose count 2.5/9.0 (-6.5)\n",
            "Epoch 003/200 | Loss 1.7199 | Win/lose count 1.5/0 (1.5)\n",
            "Epoch 004/200 | Loss 0.0219 | Win/lose count 6.5/12.0 (-5.5)\n",
            "Epoch 005/200 | Loss 0.0246 | Win/lose count 10.5/11.0 (-0.5)\n",
            "Epoch 006/200 | Loss 0.0079 | Win/lose count 13.5/12.0 (1.5)\n",
            "Epoch 007/200 | Loss 0.0357 | Win/lose count 11.0/15.0 (-4.0)\n",
            "Epoch 008/200 | Loss 0.0138 | Win/lose count 7.5/21.0 (-13.5)\n",
            "Epoch 009/200 | Loss 0.0314 | Win/lose count 13.0/16.0 (-3.0)\n",
            "Epoch 010/200 | Loss 0.0313 | Win/lose count 9.0/20.0 (-11.0)\n",
            "Epoch 011/200 | Loss 0.0075 | Win/lose count 9.0/14.0 (-5.0)\n",
            "Epoch 012/200 | Loss 0.0344 | Win/lose count 14.5/13.0 (1.5)\n",
            "Epoch 013/200 | Loss 0.0016 | Win/lose count 6.5/16.0 (-9.5)\n",
            "Epoch 014/200 | Loss 0.0131 | Win/lose count 11.5/18.0 (-6.5)\n",
            "Epoch 015/200 | Loss 0.0225 | Win/lose count 14.5/24.0 (-9.5)\n",
            "Epoch 016/200 | Loss 0.0373 | Win/lose count 17.0/23.0 (-6.0)\n",
            "Epoch 017/200 | Loss 0.0197 | Win/lose count 11.5/26.0 (-14.5)\n",
            "Epoch 018/200 | Loss 0.0387 | Win/lose count 16.5/16.0 (0.5)\n",
            "Epoch 019/200 | Loss 0.0296 | Win/lose count 7.0/12.0 (-5.0)\n",
            "Epoch 020/200 | Loss 0.0258 | Win/lose count 11.5/21.0 (-9.5)\n",
            "Epoch 021/200 | Loss 0.0431 | Win/lose count 6.5/12.0 (-5.5)\n",
            "Epoch 022/200 | Loss 0.0419 | Win/lose count 12.5/14.0 (-1.5)\n",
            "Epoch 023/200 | Loss 0.0221 | Win/lose count 7.0/11.0 (-4.0)\n",
            "Epoch 024/200 | Loss 0.0220 | Win/lose count 12.5/18.0 (-5.5)\n",
            "Epoch 025/200 | Loss 0.0199 | Win/lose count 11.5/17.0 (-5.5)\n",
            "Epoch 026/200 | Loss 0.0214 | Win/lose count 11.5/16.0 (-4.5)\n",
            "Epoch 027/200 | Loss 0.0309 | Win/lose count 10.0/17.0 (-7.0)\n",
            "Epoch 028/200 | Loss 0.0211 | Win/lose count 13.5/18.0 (-4.5)\n",
            "Epoch 029/200 | Loss 0.0296 | Win/lose count 15.0/24.0 (-9.0)\n",
            "Epoch 030/200 | Loss 0.0397 | Win/lose count 10.0/24.0 (-14.0)\n",
            "Epoch 031/200 | Loss 0.0256 | Win/lose count 12.0/16.0 (-4.0)\n",
            "Epoch 032/200 | Loss 0.0297 | Win/lose count 15.0/26.0 (-11.0)\n",
            "Epoch 033/200 | Loss 0.0265 | Win/lose count 12.5/15.0 (-2.5)\n",
            "Epoch 034/200 | Loss 0.0176 | Win/lose count 7.5/11.0 (-3.5)\n",
            "Epoch 035/200 | Loss 0.0267 | Win/lose count 15.0/11.0 (4.0)\n",
            "Epoch 036/200 | Loss 0.0164 | Win/lose count 14.5/23.0 (-8.5)\n",
            "Epoch 037/200 | Loss 0.0252 | Win/lose count 12.5/15.0 (-2.5)\n",
            "Epoch 038/200 | Loss 0.0272 | Win/lose count 14.5/23.0 (-8.5)\n",
            "Epoch 039/200 | Loss 0.0403 | Win/lose count 8.0/8.0 (0.0)\n",
            "Epoch 040/200 | Loss 0.0387 | Win/lose count 15.0/18.0 (-3.0)\n",
            "Epoch 041/200 | Loss 0.0071 | Win/lose count 16.5/19.0 (-2.5)\n",
            "Epoch 042/200 | Loss 0.0125 | Win/lose count 12.5/19.0 (-6.5)\n",
            "Epoch 043/200 | Loss 0.0174 | Win/lose count 14.0/9.0 (5.0)\n",
            "Epoch 044/200 | Loss 0.0312 | Win/lose count 11.5/17.0 (-5.5)\n",
            "Epoch 045/200 | Loss 0.0367 | Win/lose count 12.0/8.0 (4.0)\n",
            "Epoch 046/200 | Loss 0.0176 | Win/lose count 8.5/17.0 (-8.5)\n",
            "Epoch 047/200 | Loss 0.0052 | Win/lose count 12.5/26.0 (-13.5)\n",
            "Epoch 048/200 | Loss 0.0304 | Win/lose count 17.0/21.0 (-4.0)\n",
            "Epoch 049/200 | Loss 0.0144 | Win/lose count 10.0/31.0 (-21.0)\n",
            "Epoch 050/200 | Loss 0.0222 | Win/lose count 11.0/14.0 (-3.0)\n",
            "Epoch 051/200 | Loss 0.0187 | Win/lose count 10.5/16.0 (-5.5)\n",
            "Epoch 052/200 | Loss 0.0347 | Win/lose count 8.0/19.0 (-11.0)\n",
            "Epoch 053/200 | Loss 0.0409 | Win/lose count 11.0/10.0 (1.0)\n",
            "Epoch 054/200 | Loss 0.0176 | Win/lose count 13.5/17.0 (-3.5)\n",
            "Epoch 055/200 | Loss 0.0229 | Win/lose count 15.0/26.0 (-11.0)\n",
            "Epoch 056/200 | Loss 0.0374 | Win/lose count 11.5/14.0 (-2.5)\n",
            "Epoch 057/200 | Loss 0.0183 | Win/lose count 13.5/20.0 (-6.5)\n",
            "Epoch 058/200 | Loss 0.0312 | Win/lose count 10.0/14.0 (-4.0)\n",
            "Epoch 059/200 | Loss 0.0428 | Win/lose count 15.5/12.0 (3.5)\n",
            "Epoch 060/200 | Loss 0.0176 | Win/lose count 13.5/14.0 (-0.5)\n",
            "Epoch 061/200 | Loss 0.0629 | Win/lose count 13.5/14.0 (-0.5)\n",
            "Epoch 062/200 | Loss 0.0230 | Win/lose count 13.0/16.0 (-3.0)\n",
            "Epoch 063/200 | Loss 0.0142 | Win/lose count 12.5/16.0 (-3.5)\n",
            "Epoch 064/200 | Loss 0.0090 | Win/lose count 10.5/19.0 (-8.5)\n",
            "Epoch 065/200 | Loss 0.0487 | Win/lose count 18.5/12.0 (6.5)\n",
            "Epoch 066/200 | Loss 0.0493 | Win/lose count 16.0/18.0 (-2.0)\n",
            "Epoch 067/200 | Loss 0.0281 | Win/lose count 8.0/11.0 (-3.0)\n",
            "Epoch 068/200 | Loss 0.0246 | Win/lose count 14.0/20.0 (-6.0)\n",
            "Epoch 069/200 | Loss 0.0262 | Win/lose count 13.5/19.0 (-5.5)\n",
            "Epoch 070/200 | Loss 0.0398 | Win/lose count 14.0/19.0 (-5.0)\n",
            "Epoch 071/200 | Loss 0.0387 | Win/lose count 9.5/16.0 (-6.5)\n",
            "Epoch 072/200 | Loss 0.0298 | Win/lose count 12.5/17.0 (-4.5)\n",
            "Epoch 073/200 | Loss 0.0252 | Win/lose count 13.5/16.0 (-2.5)\n",
            "Epoch 074/200 | Loss 0.0225 | Win/lose count 12.5/18.0 (-5.5)\n",
            "Epoch 075/200 | Loss 0.0301 | Win/lose count 5.5/13.0 (-7.5)\n",
            "Epoch 076/200 | Loss 0.0353 | Win/lose count 10.5/11.0 (-0.5)\n",
            "Epoch 077/200 | Loss 0.0168 | Win/lose count 9.5/12.0 (-2.5)\n",
            "Epoch 078/200 | Loss 0.0187 | Win/lose count 7.0/15.0 (-8.0)\n",
            "Epoch 079/200 | Loss 0.0120 | Win/lose count 16.5/21.0 (-4.5)\n",
            "Epoch 080/200 | Loss 0.0090 | Win/lose count 14.0/22.0 (-8.0)\n",
            "Epoch 081/200 | Loss 0.0292 | Win/lose count 9.5/20.0 (-10.5)\n",
            "Epoch 082/200 | Loss 0.0322 | Win/lose count 9.5/20.0 (-10.5)\n",
            "Epoch 083/200 | Loss 0.0195 | Win/lose count 10.0/19.0 (-9.0)\n",
            "Epoch 084/200 | Loss 0.0251 | Win/lose count 8.5/22.0 (-13.5)\n",
            "Epoch 085/200 | Loss 0.0318 | Win/lose count 6.0/16.0 (-10.0)\n",
            "Epoch 086/200 | Loss 0.0342 | Win/lose count 13.5/27.0 (-13.5)\n",
            "Epoch 087/200 | Loss 0.0301 | Win/lose count 12.0/14.0 (-2.0)\n",
            "Epoch 088/200 | Loss 5625.6680 | Win/lose count 7.0/16.0 (-9.0)\n",
            "Epoch 089/200 | Loss 0.0848 | Win/lose count 7.0/9.0 (-2.0)\n",
            "Epoch 090/200 | Loss 0.0745 | Win/lose count 3.5/3.0 (0.5)\n",
            "Epoch 091/200 | Loss 0.0910 | Win/lose count 2.0/2.0 (0.0)\n",
            "Epoch 092/200 | Loss 0.0682 | Win/lose count 4.5/10.0 (-5.5)\n",
            "Epoch 093/200 | Loss 0.2740 | Win/lose count 5.5/12.0 (-6.5)\n",
            "Epoch 094/200 | Loss 0.2789 | Win/lose count 4.5/5.0 (-0.5)\n",
            "Epoch 095/200 | Loss 0.1411 | Win/lose count 2.5/11.0 (-8.5)\n",
            "Epoch 096/200 | Loss 0.0586 | Win/lose count 4.0/8.0 (-4.0)\n",
            "Epoch 097/200 | Loss 0.0539 | Win/lose count 9.0/8.0 (1.0)\n",
            "Epoch 098/200 | Loss 0.0353 | Win/lose count 6.0/5.0 (1.0)\n",
            "Epoch 099/200 | Loss 0.6920 | Win/lose count 7.5/6.0 (1.5)\n",
            "Epoch 100/200 | Loss 0.3009 | Win/lose count 6.0/4.0 (2.0)\n",
            "Epoch 101/200 | Loss 0.0840 | Win/lose count 6.0/10.0 (-4.0)\n",
            "Epoch 102/200 | Loss 369.1831 | Win/lose count 5.0/9.0 (-4.0)\n",
            "Epoch 103/200 | Loss 3.2989 | Win/lose count 7.5/13.0 (-5.5)\n",
            "Epoch 104/200 | Loss 1424.4318 | Win/lose count 3.5/11.0 (-7.5)\n",
            "Epoch 105/200 | Loss 1701.2164 | Win/lose count 4.0/11.0 (-7.0)\n",
            "Epoch 106/200 | Loss 0.0286 | Win/lose count 4.5/17.0 (-12.5)\n",
            "Epoch 107/200 | Loss 0.1001 | Win/lose count 8.5/6.0 (2.5)\n",
            "Epoch 108/200 | Loss 0.0622 | Win/lose count 6.5/6.0 (0.5)\n",
            "Epoch 109/200 | Loss 146.4002 | Win/lose count 0/5.0 (-5.0)\n",
            "Epoch 110/200 | Loss 1134.1206 | Win/lose count 8.0/4.0 (4.0)\n",
            "Epoch 111/200 | Loss 0.1738 | Win/lose count 8.5/6.0 (2.5)\n",
            "Epoch 112/200 | Loss 2.1896 | Win/lose count 3.0/9.0 (-6.0)\n",
            "Epoch 113/200 | Loss 169.5000 | Win/lose count 5.0/5.0 (0.0)\n",
            "Epoch 114/200 | Loss 0.1268 | Win/lose count 4.0/9.0 (-5.0)\n",
            "Epoch 115/200 | Loss 0.4417 | Win/lose count 3.0/5.0 (-2.0)\n",
            "Epoch 116/200 | Loss 0.1447 | Win/lose count 2.5/9.0 (-6.5)\n",
            "Epoch 117/200 | Loss 0.1268 | Win/lose count 4.5/6.0 (-1.5)\n",
            "Epoch 118/200 | Loss 0.4181 | Win/lose count 2.0/3.0 (-1.0)\n",
            "Epoch 119/200 | Loss 0.1091 | Win/lose count 2.5/6.0 (-3.5)\n",
            "Epoch 120/200 | Loss 0.0819 | Win/lose count 5.5/3.0 (2.5)\n",
            "Epoch 121/200 | Loss 3.4315 | Win/lose count 5.0/7.0 (-2.0)\n",
            "Epoch 122/200 | Loss 49.2114 | Win/lose count 10.5/8.0 (2.5)\n",
            "Epoch 123/200 | Loss 39.8309 | Win/lose count 10.0/10.0 (0.0)\n",
            "Epoch 124/200 | Loss 0.8108 | Win/lose count 5.0/4.0 (1.0)\n",
            "Epoch 125/200 | Loss 0.7647 | Win/lose count 2.5/1.0 (1.5)\n",
            "Epoch 126/200 | Loss 0.2625 | Win/lose count 3.5/0 (3.5)\n",
            "Epoch 127/200 | Loss 0.3614 | Win/lose count 5.0/8.0 (-3.0)\n",
            "Epoch 128/200 | Loss 0.2185 | Win/lose count 5.0/5.0 (0.0)\n",
            "Epoch 129/200 | Loss 0.1222 | Win/lose count 2.5/2.0 (0.5)\n",
            "Epoch 130/200 | Loss 0.1975 | Win/lose count 1.5/7.0 (-5.5)\n",
            "Epoch 131/200 | Loss 0.1888 | Win/lose count 3.0/3.0 (0.0)\n",
            "Epoch 132/200 | Loss 0.1394 | Win/lose count 3.0/5.0 (-2.0)\n",
            "Epoch 133/200 | Loss 0.1123 | Win/lose count 1.5/5.0 (-3.5)\n",
            "Epoch 134/200 | Loss 0.0616 | Win/lose count 0.5/3.0 (-2.5)\n",
            "Epoch 135/200 | Loss 1.2415 | Win/lose count 4.0/2.0 (2.0)\n",
            "Epoch 136/200 | Loss 0.0272 | Win/lose count 2.0/9.0 (-7.0)\n",
            "Epoch 137/200 | Loss 0.0293 | Win/lose count 2.0/4.0 (-2.0)\n",
            "Epoch 138/200 | Loss 0.0118 | Win/lose count 2.5/3.0 (-0.5)\n",
            "Epoch 139/200 | Loss 0.0202 | Win/lose count 3.0/2.0 (1.0)\n",
            "Epoch 140/200 | Loss 0.0197 | Win/lose count 1.5/2.0 (-0.5)\n",
            "Epoch 141/200 | Loss 0.0129 | Win/lose count 2.0/4.0 (-2.0)\n",
            "Epoch 142/200 | Loss 0.0112 | Win/lose count 2.5/7.0 (-4.5)\n",
            "Epoch 143/200 | Loss 0.0013 | Win/lose count 2.5/3.0 (-0.5)\n",
            "Epoch 144/200 | Loss 0.0108 | Win/lose count 4.0/3.0 (1.0)\n",
            "Epoch 145/200 | Loss 0.0118 | Win/lose count 2.5/10.0 (-7.5)\n",
            "Epoch 146/200 | Loss 0.0169 | Win/lose count 3.5/8.0 (-4.5)\n",
            "Epoch 147/200 | Loss 0.0008 | Win/lose count 3.5/8.0 (-4.5)\n",
            "Epoch 148/200 | Loss 0.0184 | Win/lose count 3.0/2.0 (1.0)\n",
            "Epoch 149/200 | Loss 0.0023 | Win/lose count 5.5/3.0 (2.5)\n",
            "Epoch 150/200 | Loss 0.0022 | Win/lose count 5.5/4.0 (1.5)\n",
            "Epoch 151/200 | Loss 0.0121 | Win/lose count 3.0/6.0 (-3.0)\n",
            "Epoch 152/200 | Loss 0.0175 | Win/lose count 5.0/5.0 (0.0)\n",
            "Epoch 153/200 | Loss 0.0005 | Win/lose count 7.0/10.0 (-3.0)\n",
            "Epoch 154/200 | Loss 0.0046 | Win/lose count 5.0/5.0 (0.0)\n",
            "Epoch 155/200 | Loss 0.0232 | Win/lose count 5.0/4.0 (1.0)\n",
            "Epoch 156/200 | Loss 0.0050 | Win/lose count 4.5/5.0 (-0.5)\n",
            "Epoch 157/200 | Loss 0.0087 | Win/lose count 4.0/7.0 (-3.0)\n",
            "Epoch 158/200 | Loss 0.0012 | Win/lose count 6.0/9.0 (-3.0)\n",
            "Epoch 159/200 | Loss 0.0158 | Win/lose count 4.5/8.0 (-3.5)\n",
            "Epoch 160/200 | Loss 0.0021 | Win/lose count 4.0/2.0 (2.0)\n",
            "Epoch 161/200 | Loss 0.7906 | Win/lose count 4.0/5.0 (-1.0)\n",
            "Epoch 162/200 | Loss 0.2653 | Win/lose count 10.0/5.0 (5.0)\n",
            "Epoch 163/200 | Loss 0.0235 | Win/lose count 9.5/14.0 (-4.5)\n",
            "Epoch 164/200 | Loss 0.0082 | Win/lose count 3.0/1.0 (2.0)\n",
            "Epoch 165/200 | Loss 0.0123 | Win/lose count 2.5/0 (2.5)\n",
            "Epoch 166/200 | Loss 0.0210 | Win/lose count 7.0/9.0 (-2.0)\n",
            "Epoch 167/200 | Loss 0.0295 | Win/lose count 1.0/4.0 (-3.0)\n",
            "Epoch 168/200 | Loss 675436.6875 | Win/lose count 7.5/9.0 (-1.5)\n",
            "Epoch 169/200 | Loss 0.3283 | Win/lose count 1.5/4.0 (-2.5)\n",
            "Epoch 170/200 | Loss 0.1846 | Win/lose count 1.5/4.0 (-2.5)\n",
            "Epoch 171/200 | Loss 0.0610 | Win/lose count 1.5/5.0 (-3.5)\n",
            "Epoch 172/200 | Loss 0.0333 | Win/lose count 2.0/5.0 (-3.0)\n",
            "Epoch 173/200 | Loss 0.0202 | Win/lose count 3.5/4.0 (-0.5)\n",
            "Epoch 174/200 | Loss 0.0237 | Win/lose count 4.5/2.0 (2.5)\n",
            "Epoch 175/200 | Loss 0.0091 | Win/lose count 0.5/2.0 (-1.5)\n",
            "Epoch 176/200 | Loss 0.0164 | Win/lose count 0.5/2.0 (-1.5)\n",
            "Epoch 177/200 | Loss 0.0033 | Win/lose count 2.5/3.0 (-0.5)\n",
            "Epoch 178/200 | Loss 0.0108 | Win/lose count 2.0/6.0 (-4.0)\n",
            "Epoch 179/200 | Loss 0.0009 | Win/lose count 0.5/0 (0.5)\n",
            "Epoch 180/200 | Loss 0.0008 | Win/lose count 1.0/4.0 (-3.0)\n",
            "Epoch 181/200 | Loss 0.0088 | Win/lose count 2.0/1.0 (1.0)\n",
            "Epoch 182/200 | Loss 0.0000 | Win/lose count 4.5/8.0 (-3.5)\n",
            "Epoch 183/200 | Loss 0.0001 | Win/lose count 3.0/7.0 (-4.0)\n",
            "Epoch 184/200 | Loss 0.0006 | Win/lose count 2.0/6.0 (-4.0)\n",
            "Epoch 185/200 | Loss 0.0190 | Win/lose count 1.5/3.0 (-1.5)\n",
            "Epoch 186/200 | Loss 0.0083 | Win/lose count 4.5/4.0 (0.5)\n",
            "Epoch 187/200 | Loss 0.0099 | Win/lose count 2.5/5.0 (-2.5)\n",
            "Epoch 188/200 | Loss 0.0078 | Win/lose count 1.5/3.0 (-1.5)\n",
            "Epoch 189/200 | Loss 0.0084 | Win/lose count 2.0/4.0 (-2.0)\n",
            "Epoch 190/200 | Loss 0.0002 | Win/lose count 2.5/5.0 (-2.5)\n",
            "Epoch 191/200 | Loss 0.0002 | Win/lose count 2.5/6.0 (-3.5)\n",
            "Epoch 192/200 | Loss 0.0005 | Win/lose count 3.0/0 (3.0)\n",
            "Epoch 193/200 | Loss 0.0106 | Win/lose count 2.0/3.0 (-1.0)\n",
            "Epoch 194/200 | Loss 0.0016 | Win/lose count 3.5/7.0 (-3.5)\n",
            "Epoch 195/200 | Loss 0.0079 | Win/lose count 1.0/1.0 (0.0)\n",
            "Epoch 196/200 | Loss 0.0013 | Win/lose count 2.5/5.0 (-2.5)\n",
            "Epoch 197/200 | Loss 0.0037 | Win/lose count 4.0/5.0 (-1.0)\n",
            "Epoch 198/200 | Loss 0.0053 | Win/lose count 6.0/5.0 (1.0)\n",
            "Epoch 199/200 | Loss 0.0044 | Win/lose count 3.5/6.0 (-2.5)\n"
          ],
          "name": "stdout"
        },
        {
          "output_type": "execute_result",
          "data": {
            "text/html": [
              "<video alt=\"test\" controls>\n",
              "                <source src=\"data:video/mp4;base64,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\" type=\"video/mp4\" />\n",
              "             </video>"
            ],
            "text/plain": [
              "<IPython.core.display.HTML object>"
            ]
          },
          "metadata": {
            "tags": []
          },
          "execution_count": 35
        }
      ]
    },
    {
      "cell_type": "markdown",
      "metadata": {
        "id": "_RHyNje_bZ3U",
        "colab_type": "text"
      },
      "source": [
        "***\n",
        "***\n",
        "__Question 8__ Implement the DQN training algorithm using a CNN (for example, 2 convolutional layers and one final fully connected layer)."
      ]
    },
    {
      "cell_type": "code",
      "metadata": {
        "id": "6ZicIW_NbZ3W",
        "colab_type": "code",
        "colab": {}
      },
      "source": [
        "class DQN_CNN(DQN):\n",
        "    def __init__(self, *args,lr=0.1,**kwargs):\n",
        "        super(DQN_CNN, self).__init__(*args,**kwargs)\n",
        "        \n",
        "        input_shape = (5, 5, self.n_state)\n",
        "        \n",
        "        model = Sequential([\n",
        "            Conv2D(32, 3, input_shape=input_shape, activation='relu', padding=\"same\"),\n",
        "            Conv2D(64, 3, activation='relu', padding=\"same\"),\n",
        "            Conv2D(32, 3, activation='relu', padding=\"same\"),\n",
        "            keras.layers.Flatten(),\n",
        "            Dense(self.n_action) ])\n",
        "                \n",
        "        model.compile(keras.optimizers.adam(lr=lr), \"mse\")\n",
        "        self.model = model"
      ],
      "execution_count": 0,
      "outputs": []
    },
    {
      "cell_type": "code",
      "metadata": {
        "id": "E2luDJS4bZ3g",
        "colab_type": "code",
        "outputId": "7c74fa14-0415-4a95-cb80-ed03620b7550",
        "colab": {
          "base_uri": "https://localhost:8080/",
          "height": 1000
        }
      },
      "source": [
        "env = Environment(grid_size=size, max_time=T, temperature=0.3)\n",
        "agent = DQN_CNN(size, lr=.1, epsilon = 0.1, memory_size=2000, batch_size = 32)\n",
        "train(agent,env,epochs_train,prefix='cnn_train')\n",
        "HTML(display_videos('cnn_train10.mp4'))"
      ],
      "execution_count": 37,
      "outputs": [
        {
          "output_type": "stream",
          "text": [
            "Epoch 000/200 | Loss 0.0086 | Win/lose count 5.0/6.0 (-1.0)\n",
            "Epoch 001/200 | Loss 0.0111 | Win/lose count 2.0/3.0 (-1.0)\n",
            "Epoch 002/200 | Loss 0.0051 | Win/lose count 2.0/4.0 (-2.0)\n",
            "Epoch 003/200 | Loss 0.0127 | Win/lose count 2.0/5.0 (-3.0)\n",
            "Epoch 004/200 | Loss 0.0130 | Win/lose count 2.5/5.0 (-2.5)\n",
            "Epoch 005/200 | Loss 0.0157 | Win/lose count 2.0/3.0 (-1.0)\n",
            "Epoch 006/200 | Loss 0.0098 | Win/lose count 1.5/3.0 (-1.5)\n",
            "Epoch 007/200 | Loss 0.0078 | Win/lose count 1.0/4.0 (-3.0)\n",
            "Epoch 008/200 | Loss 0.0117 | Win/lose count 1.5/4.0 (-2.5)\n",
            "Epoch 009/200 | Loss 0.0028 | Win/lose count 3.5/3.0 (0.5)\n",
            "Epoch 010/200 | Loss 0.0029 | Win/lose count 3.5/2.0 (1.5)\n",
            "Epoch 011/200 | Loss 0.0079 | Win/lose count 1.5/7.0 (-5.5)\n",
            "Epoch 012/200 | Loss 0.0079 | Win/lose count 2.5/0 (2.5)\n",
            "Epoch 013/200 | Loss 0.0079 | Win/lose count 1.5/5.0 (-3.5)\n",
            "Epoch 014/200 | Loss 0.0041 | Win/lose count 2.5/1.0 (1.5)\n",
            "Epoch 015/200 | Loss 0.0090 | Win/lose count 2.5/2.0 (0.5)\n",
            "Epoch 016/200 | Loss 0.0039 | Win/lose count 3.0/5.0 (-2.0)\n",
            "Epoch 017/200 | Loss 0.0160 | Win/lose count 2.0/5.0 (-3.0)\n",
            "Epoch 018/200 | Loss 0.0143 | Win/lose count 0.5/4.0 (-3.5)\n",
            "Epoch 019/200 | Loss 0.0006 | Win/lose count 1.0/4.0 (-3.0)\n",
            "Epoch 020/200 | Loss 0.0102 | Win/lose count 4.0/2.0 (2.0)\n",
            "Epoch 021/200 | Loss 0.0082 | Win/lose count 1.5/1.0 (0.5)\n",
            "Epoch 022/200 | Loss 0.0176 | Win/lose count 2.5/3.0 (-0.5)\n",
            "Epoch 023/200 | Loss 0.0020 | Win/lose count 2.0/0 (2.0)\n",
            "Epoch 024/200 | Loss 0.0000 | Win/lose count 2.0/1.0 (1.0)\n",
            "Epoch 025/200 | Loss 0.0084 | Win/lose count 3.0/4.0 (-1.0)\n",
            "Epoch 026/200 | Loss 0.0000 | Win/lose count 3.5/1.0 (2.5)\n",
            "Epoch 027/200 | Loss 0.0000 | Win/lose count 2.0/0 (2.0)\n",
            "Epoch 028/200 | Loss 0.0040 | Win/lose count 2.0/3.0 (-1.0)\n",
            "Epoch 029/200 | Loss 0.0003 | Win/lose count 1.5/6.0 (-4.5)\n",
            "Epoch 030/200 | Loss 0.0078 | Win/lose count 1.5/5.0 (-3.5)\n",
            "Epoch 031/200 | Loss 0.0000 | Win/lose count 3.5/3.0 (0.5)\n",
            "Epoch 032/200 | Loss 0.0001 | Win/lose count 2.5/3.0 (-0.5)\n",
            "Epoch 033/200 | Loss 0.0098 | Win/lose count 5.0/2.0 (3.0)\n",
            "Epoch 034/200 | Loss 0.0020 | Win/lose count 2.0/4.0 (-2.0)\n",
            "Epoch 035/200 | Loss 0.0035 | Win/lose count 3.0/3.0 (0.0)\n",
            "Epoch 036/200 | Loss 0.0114 | Win/lose count 1.0/5.0 (-4.0)\n",
            "Epoch 037/200 | Loss 0.0021 | Win/lose count 2.0/6.0 (-4.0)\n",
            "Epoch 038/200 | Loss 0.0006 | Win/lose count 3.5/2.0 (1.5)\n",
            "Epoch 039/200 | Loss 0.0006 | Win/lose count 2.0/2.0 (0.0)\n",
            "Epoch 040/200 | Loss 0.0079 | Win/lose count 3.5/2.0 (1.5)\n",
            "Epoch 041/200 | Loss 0.0011 | Win/lose count 3.0/8.0 (-5.0)\n",
            "Epoch 042/200 | Loss 0.0209 | Win/lose count 2.5/2.0 (0.5)\n",
            "Epoch 043/200 | Loss 0.0110 | Win/lose count 2.5/3.0 (-0.5)\n",
            "Epoch 044/200 | Loss 0.0001 | Win/lose count 1.5/2.0 (-0.5)\n",
            "Epoch 045/200 | Loss 0.0098 | Win/lose count 2.0/1.0 (1.0)\n",
            "Epoch 046/200 | Loss 0.0046 | Win/lose count 2.5/2.0 (0.5)\n",
            "Epoch 047/200 | Loss 0.0020 | Win/lose count 5.0/8.0 (-3.0)\n",
            "Epoch 048/200 | Loss 0.0083 | Win/lose count 4.5/6.0 (-1.5)\n",
            "Epoch 049/200 | Loss 0.0079 | Win/lose count 2.0/5.0 (-3.0)\n",
            "Epoch 050/200 | Loss 0.0076 | Win/lose count 7.5/7.0 (0.5)\n",
            "Epoch 051/200 | Loss 0.0041 | Win/lose count 2.5/5.0 (-2.5)\n",
            "Epoch 052/200 | Loss 0.0122 | Win/lose count 3.5/5.0 (-1.5)\n",
            "Epoch 053/200 | Loss 0.0020 | Win/lose count 7.5/7.0 (0.5)\n",
            "Epoch 054/200 | Loss 0.0000 | Win/lose count 5.5/9.0 (-3.5)\n",
            "Epoch 055/200 | Loss 0.0043 | Win/lose count 4.5/4.0 (0.5)\n",
            "Epoch 056/200 | Loss 0.0097 | Win/lose count 4.0/4.0 (0.0)\n",
            "Epoch 057/200 | Loss 0.0020 | Win/lose count 2.0/1.0 (1.0)\n",
            "Epoch 058/200 | Loss 0.0020 | Win/lose count 2.5/2.0 (0.5)\n",
            "Epoch 059/200 | Loss 0.0063 | Win/lose count 1.5/5.0 (-3.5)\n",
            "Epoch 060/200 | Loss 0.0075 | Win/lose count 3.0/5.0 (-2.0)\n",
            "Epoch 061/200 | Loss 0.0096 | Win/lose count 3.0/4.0 (-1.0)\n",
            "Epoch 062/200 | Loss 0.0233 | Win/lose count 1.5/7.0 (-5.5)\n",
            "Epoch 063/200 | Loss 0.0099 | Win/lose count 3.5/4.0 (-0.5)\n",
            "Epoch 064/200 | Loss 0.0000 | Win/lose count 2.5/12.0 (-9.5)\n",
            "Epoch 065/200 | Loss 0.0077 | Win/lose count 4.0/15.0 (-11.0)\n",
            "Epoch 066/200 | Loss 0.0137 | Win/lose count 7.0/14.0 (-7.0)\n",
            "Epoch 067/200 | Loss 0.0154 | Win/lose count 3.5/10.0 (-6.5)\n",
            "Epoch 068/200 | Loss 0.0301 | Win/lose count 4.0/8.0 (-4.0)\n",
            "Epoch 069/200 | Loss 0.0043 | Win/lose count 3.0/6.0 (-3.0)\n",
            "Epoch 070/200 | Loss 0.0076 | Win/lose count 3.5/4.0 (-0.5)\n",
            "Epoch 071/200 | Loss 0.0151 | Win/lose count 12.0/18.0 (-6.0)\n",
            "Epoch 072/200 | Loss 0.0076 | Win/lose count 4.5/8.0 (-3.5)\n",
            "Epoch 073/200 | Loss 0.0130 | Win/lose count 10.0/15.0 (-5.0)\n",
            "Epoch 074/200 | Loss 0.0321 | Win/lose count 5.0/6.0 (-1.0)\n",
            "Epoch 075/200 | Loss 0.0078 | Win/lose count 4.0/8.0 (-4.0)\n",
            "Epoch 076/200 | Loss 0.0142 | Win/lose count 10.5/17.0 (-6.5)\n",
            "Epoch 077/200 | Loss 0.0500 | Win/lose count 4.5/7.0 (-2.5)\n",
            "Epoch 078/200 | Loss 0.0066 | Win/lose count 9.0/4.0 (5.0)\n",
            "Epoch 079/200 | Loss 0.0074 | Win/lose count 5.0/13.0 (-8.0)\n",
            "Epoch 080/200 | Loss 0.0054 | Win/lose count 6.5/8.0 (-1.5)\n",
            "Epoch 081/200 | Loss 0.0220 | Win/lose count 6.5/4.0 (2.5)\n",
            "Epoch 082/200 | Loss 0.0291 | Win/lose count 9.0/13.0 (-4.0)\n",
            "Epoch 083/200 | Loss 0.0160 | Win/lose count 4.0/3.0 (1.0)\n",
            "Epoch 084/200 | Loss 0.0115 | Win/lose count 6.0/7.0 (-1.0)\n",
            "Epoch 085/200 | Loss 0.0001 | Win/lose count 9.5/13.0 (-3.5)\n",
            "Epoch 086/200 | Loss 0.0211 | Win/lose count 10.5/10.0 (0.5)\n",
            "Epoch 087/200 | Loss 0.0060 | Win/lose count 9.5/15.0 (-5.5)\n",
            "Epoch 088/200 | Loss 0.0327 | Win/lose count 11.0/14.0 (-3.0)\n",
            "Epoch 089/200 | Loss 0.0104 | Win/lose count 8.5/13.0 (-4.5)\n",
            "Epoch 090/200 | Loss 0.0128 | Win/lose count 9.5/15.0 (-5.5)\n",
            "Epoch 091/200 | Loss 0.0231 | Win/lose count 12.5/16.0 (-3.5)\n",
            "Epoch 092/200 | Loss 0.0208 | Win/lose count 8.0/15.0 (-7.0)\n",
            "Epoch 093/200 | Loss 0.0134 | Win/lose count 11.0/10.0 (1.0)\n",
            "Epoch 094/200 | Loss 0.0324 | Win/lose count 5.5/14.0 (-8.5)\n",
            "Epoch 095/200 | Loss 0.0258 | Win/lose count 6.5/17.0 (-10.5)\n",
            "Epoch 096/200 | Loss 0.0241 | Win/lose count 10.5/14.0 (-3.5)\n",
            "Epoch 097/200 | Loss 0.0393 | Win/lose count 15.0/13.0 (2.0)\n",
            "Epoch 098/200 | Loss 0.0082 | Win/lose count 14.5/15.0 (-0.5)\n",
            "Epoch 099/200 | Loss 0.0453 | Win/lose count 15.0/26.0 (-11.0)\n",
            "Epoch 100/200 | Loss 0.0087 | Win/lose count 15.5/13.0 (2.5)\n",
            "Epoch 101/200 | Loss 0.0274 | Win/lose count 7.5/14.0 (-6.5)\n",
            "Epoch 102/200 | Loss 0.0252 | Win/lose count 12.5/24.0 (-11.5)\n",
            "Epoch 103/200 | Loss 0.0376 | Win/lose count 13.5/31.0 (-17.5)\n",
            "Epoch 104/200 | Loss 0.0313 | Win/lose count 14.5/12.0 (2.5)\n",
            "Epoch 105/200 | Loss 0.0147 | Win/lose count 13.0/17.0 (-4.0)\n",
            "Epoch 106/200 | Loss 0.0303 | Win/lose count 10.5/15.0 (-4.5)\n",
            "Epoch 107/200 | Loss 0.0283 | Win/lose count 15.5/23.0 (-7.5)\n",
            "Epoch 108/200 | Loss 0.0125 | Win/lose count 14.0/14.0 (0.0)\n",
            "Epoch 109/200 | Loss 0.0177 | Win/lose count 14.0/13.0 (1.0)\n",
            "Epoch 110/200 | Loss 0.0399 | Win/lose count 14.0/19.0 (-5.0)\n",
            "Epoch 111/200 | Loss 0.0031 | Win/lose count 14.0/15.0 (-1.0)\n",
            "Epoch 112/200 | Loss 0.0183 | Win/lose count 10.0/18.0 (-8.0)\n",
            "Epoch 113/200 | Loss 0.0256 | Win/lose count 12.5/25.0 (-12.5)\n",
            "Epoch 114/200 | Loss 0.0201 | Win/lose count 13.5/17.0 (-3.5)\n",
            "Epoch 115/200 | Loss 0.0407 | Win/lose count 14.5/22.0 (-7.5)\n",
            "Epoch 116/200 | Loss 0.0302 | Win/lose count 9.0/10.0 (-1.0)\n",
            "Epoch 117/200 | Loss 0.0231 | Win/lose count 12.0/17.0 (-5.0)\n",
            "Epoch 118/200 | Loss 0.0207 | Win/lose count 15.5/20.0 (-4.5)\n",
            "Epoch 119/200 | Loss 0.0282 | Win/lose count 8.0/10.0 (-2.0)\n",
            "Epoch 120/200 | Loss 0.0178 | Win/lose count 11.0/9.0 (2.0)\n",
            "Epoch 121/200 | Loss 0.0520 | Win/lose count 13.0/16.0 (-3.0)\n",
            "Epoch 122/200 | Loss 0.0544 | Win/lose count 10.0/14.0 (-4.0)\n",
            "Epoch 123/200 | Loss 0.0189 | Win/lose count 12.0/12.0 (0.0)\n",
            "Epoch 124/200 | Loss 0.0413 | Win/lose count 8.5/18.0 (-9.5)\n",
            "Epoch 125/200 | Loss 0.0180 | Win/lose count 16.0/15.0 (1.0)\n",
            "Epoch 126/200 | Loss 0.0297 | Win/lose count 10.5/28.0 (-17.5)\n",
            "Epoch 127/200 | Loss 0.0236 | Win/lose count 13.0/28.0 (-15.0)\n",
            "Epoch 128/200 | Loss 0.0261 | Win/lose count 9.5/19.0 (-9.5)\n",
            "Epoch 129/200 | Loss 0.0235 | Win/lose count 10.5/16.0 (-5.5)\n",
            "Epoch 130/200 | Loss 0.0147 | Win/lose count 9.5/14.0 (-4.5)\n",
            "Epoch 131/200 | Loss 0.0273 | Win/lose count 15.0/23.0 (-8.0)\n",
            "Epoch 132/200 | Loss 0.0343 | Win/lose count 16.0/13.0 (3.0)\n",
            "Epoch 133/200 | Loss 0.0337 | Win/lose count 10.0/22.0 (-12.0)\n",
            "Epoch 134/200 | Loss 0.0127 | Win/lose count 14.5/16.0 (-1.5)\n",
            "Epoch 135/200 | Loss 0.0261 | Win/lose count 16.5/18.0 (-1.5)\n",
            "Epoch 136/200 | Loss 0.0194 | Win/lose count 10.0/15.0 (-5.0)\n",
            "Epoch 137/200 | Loss 0.0265 | Win/lose count 11.0/14.0 (-3.0)\n",
            "Epoch 138/200 | Loss 0.0167 | Win/lose count 17.5/17.0 (0.5)\n",
            "Epoch 139/200 | Loss 0.0263 | Win/lose count 9.0/14.0 (-5.0)\n",
            "Epoch 140/200 | Loss 0.0328 | Win/lose count 3.5/20.0 (-16.5)\n",
            "Epoch 141/200 | Loss 0.0111 | Win/lose count 9.5/17.0 (-7.5)\n",
            "Epoch 142/200 | Loss 0.0499 | Win/lose count 8.0/11.0 (-3.0)\n",
            "Epoch 143/200 | Loss 0.0150 | Win/lose count 5.5/7.0 (-1.5)\n",
            "Epoch 144/200 | Loss 0.0258 | Win/lose count 6.0/8.0 (-2.0)\n",
            "Epoch 145/200 | Loss 0.0289 | Win/lose count 12.0/23.0 (-11.0)\n",
            "Epoch 146/200 | Loss 0.0412 | Win/lose count 9.0/11.0 (-2.0)\n",
            "Epoch 147/200 | Loss 0.0241 | Win/lose count 8.0/8.0 (0.0)\n",
            "Epoch 148/200 | Loss 0.0157 | Win/lose count 9.5/14.0 (-4.5)\n",
            "Epoch 149/200 | Loss 0.0293 | Win/lose count 10.5/9.0 (1.5)\n",
            "Epoch 150/200 | Loss 0.0366 | Win/lose count 3.5/2.0 (1.5)\n",
            "Epoch 151/200 | Loss 0.0092 | Win/lose count 7.5/15.0 (-7.5)\n",
            "Epoch 152/200 | Loss 0.0093 | Win/lose count 7.0/12.0 (-5.0)\n",
            "Epoch 153/200 | Loss 0.0174 | Win/lose count 10.5/19.0 (-8.5)\n",
            "Epoch 154/200 | Loss 0.0310 | Win/lose count 14.0/13.0 (1.0)\n",
            "Epoch 155/200 | Loss 0.0338 | Win/lose count 6.0/6.0 (0.0)\n",
            "Epoch 156/200 | Loss 0.0254 | Win/lose count 11.0/19.0 (-8.0)\n",
            "Epoch 157/200 | Loss 0.0221 | Win/lose count 8.0/8.0 (0.0)\n",
            "Epoch 158/200 | Loss 0.0019 | Win/lose count 18.0/13.0 (5.0)\n",
            "Epoch 159/200 | Loss 0.0342 | Win/lose count 15.5/23.0 (-7.5)\n",
            "Epoch 160/200 | Loss 0.0131 | Win/lose count 13.0/13.0 (0.0)\n",
            "Epoch 161/200 | Loss 0.0100 | Win/lose count 9.5/16.0 (-6.5)\n",
            "Epoch 162/200 | Loss 0.0252 | Win/lose count 8.5/16.0 (-7.5)\n",
            "Epoch 163/200 | Loss 0.0261 | Win/lose count 7.5/16.0 (-8.5)\n",
            "Epoch 164/200 | Loss 0.0190 | Win/lose count 7.5/14.0 (-6.5)\n",
            "Epoch 165/200 | Loss 0.0076 | Win/lose count 12.0/15.0 (-3.0)\n",
            "Epoch 166/200 | Loss 0.0254 | Win/lose count 13.0/17.0 (-4.0)\n",
            "Epoch 167/200 | Loss 1.6487 | Win/lose count 9.5/16.0 (-6.5)\n",
            "Epoch 168/200 | Loss 0.0236 | Win/lose count 11.5/21.0 (-9.5)\n",
            "Epoch 169/200 | Loss 0.0103 | Win/lose count 10.5/12.0 (-1.5)\n",
            "Epoch 170/200 | Loss 0.0192 | Win/lose count 11.0/12.0 (-1.0)\n",
            "Epoch 171/200 | Loss 0.0331 | Win/lose count 11.0/19.0 (-8.0)\n",
            "Epoch 172/200 | Loss 0.0162 | Win/lose count 9.0/13.0 (-4.0)\n",
            "Epoch 173/200 | Loss 0.0290 | Win/lose count 10.5/15.0 (-4.5)\n",
            "Epoch 174/200 | Loss 0.5740 | Win/lose count 11.5/16.0 (-4.5)\n",
            "Epoch 175/200 | Loss 0.0271 | Win/lose count 11.5/17.0 (-5.5)\n",
            "Epoch 176/200 | Loss 0.0141 | Win/lose count 14.0/14.0 (0.0)\n",
            "Epoch 177/200 | Loss 0.0344 | Win/lose count 11.0/18.0 (-7.0)\n",
            "Epoch 178/200 | Loss 0.0266 | Win/lose count 9.5/19.0 (-9.5)\n",
            "Epoch 179/200 | Loss 0.0059 | Win/lose count 9.0/12.0 (-3.0)\n",
            "Epoch 180/200 | Loss 0.0154 | Win/lose count 13.0/20.0 (-7.0)\n",
            "Epoch 181/200 | Loss 0.0414 | Win/lose count 5.5/12.0 (-6.5)\n",
            "Epoch 182/200 | Loss 0.0139 | Win/lose count 5.0/15.0 (-10.0)\n",
            "Epoch 183/200 | Loss 0.0330 | Win/lose count 10.5/22.0 (-11.5)\n",
            "Epoch 184/200 | Loss 0.0039 | Win/lose count 17.5/19.0 (-1.5)\n",
            "Epoch 185/200 | Loss 0.0234 | Win/lose count 8.0/6.0 (2.0)\n",
            "Epoch 186/200 | Loss 0.0227 | Win/lose count 14.0/20.0 (-6.0)\n",
            "Epoch 187/200 | Loss 0.0176 | Win/lose count 8.5/13.0 (-4.5)\n",
            "Epoch 188/200 | Loss 0.0223 | Win/lose count 7.0/9.0 (-2.0)\n",
            "Epoch 189/200 | Loss 0.0169 | Win/lose count 13.0/17.0 (-4.0)\n",
            "Epoch 190/200 | Loss 0.0460 | Win/lose count 7.0/14.0 (-7.0)\n",
            "Epoch 191/200 | Loss 0.0372 | Win/lose count 12.0/6.0 (6.0)\n",
            "Epoch 192/200 | Loss 0.0244 | Win/lose count 16.0/12.0 (4.0)\n",
            "Epoch 193/200 | Loss 0.0099 | Win/lose count 9.5/13.0 (-3.5)\n",
            "Epoch 194/200 | Loss 0.0341 | Win/lose count 13.0/16.0 (-3.0)\n",
            "Epoch 195/200 | Loss 0.0236 | Win/lose count 20.0/18.0 (2.0)\n",
            "Epoch 196/200 | Loss 0.0134 | Win/lose count 13.0/26.0 (-13.0)\n",
            "Epoch 197/200 | Loss 0.0191 | Win/lose count 16.5/18.0 (-1.5)\n",
            "Epoch 198/200 | Loss 0.0218 | Win/lose count 9.0/18.0 (-9.0)\n",
            "Epoch 199/200 | Loss 0.0136 | Win/lose count 18.0/14.0 (4.0)\n"
          ],
          "name": "stdout"
        },
        {
          "output_type": "execute_result",
          "data": {
            "text/html": [
              "<video alt=\"test\" controls>\n",
              "                <source src=\"data:video/mp4;base64,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\" type=\"video/mp4\" />\n",
              "             </video>"
            ],
            "text/plain": [
              "<IPython.core.display.HTML object>"
            ]
          },
          "metadata": {
            "tags": []
          },
          "execution_count": 37
        }
      ]
    },
    {
      "cell_type": "markdown",
      "metadata": {
        "id": "vIt6gaGObZ3l",
        "colab_type": "text"
      },
      "source": [
        "***\n",
        "***\n",
        "__Question 9__ Test both algorithms and compare their performances. Which issue(s) do you observe? Observe also different behaviors by changing the temperature."
      ]
    },
    {
      "cell_type": "code",
      "metadata": {
        "id": "khVYeTnJbZ3n",
        "colab_type": "code",
        "outputId": "79b280ce-aa89-4244-e505-959187e739cc",
        "colab": {
          "base_uri": "https://localhost:8080/",
          "height": 1000
        }
      },
      "source": [
        "env = Environment(grid_size=size, max_time=T,temperature=0.3)\n",
        "agent_cnn = DQN_CNN(size, lr=.1, epsilon = 0.1, memory_size=2000, batch_size = 32)\n",
        "agent_cnn.load(name_weights='cnn_trainmodel.h5',name_model='cnn_trainmodel.json')\n",
        "\n",
        "agent_fc = DQN_FC(size, lr=.1, epsilon = 0.1, memory_size=2000, batch_size = 32)\n",
        "agent_cnn.load(name_weights='fc_trainmodel.h5',name_model='fc_trainmodel.json')\n",
        "print('Test of the CNN')\n",
        "test(agent_cnn,env,epochs_test,prefix='cnn_test')\n",
        "print('Test of the FC')\n",
        "test(agent_fc,env,epochs_test,prefix='fc_test')"
      ],
      "execution_count": 38,
      "outputs": [
        {
          "output_type": "stream",
          "text": [
            "Test of the CNN\n",
            "Win/lose count 2.5/3.0. Average score (-0.5)\n",
            "Win/lose count 4.0/3.0. Average score (0.25)\n",
            "Win/lose count 0.5/4.0. Average score (-1.0)\n",
            "Win/lose count 2.0/0. Average score (-0.25)\n",
            "Win/lose count 1.5/3.0. Average score (-0.5)\n",
            "Win/lose count 1.0/3.0. Average score (-0.75)\n",
            "Win/lose count 3.0/6.0. Average score (-1.0714285714285714)\n",
            "Win/lose count 3.5/2.0. Average score (-0.75)\n",
            "Win/lose count 1.0/2.0. Average score (-0.7777777777777778)\n",
            "Win/lose count 2.0/3.0. Average score (-0.8)\n",
            "Win/lose count 1.0/1.0. Average score (-0.7272727272727273)\n",
            "Win/lose count 1.5/3.0. Average score (-0.7916666666666666)\n",
            "Win/lose count 2.0/1.0. Average score (-0.6538461538461539)\n",
            "Win/lose count 0/1.0. Average score (-0.6785714285714286)\n",
            "Win/lose count 0.5/2.0. Average score (-0.7333333333333333)\n",
            "Win/lose count 5.0/2.0. Average score (-0.5)\n",
            "Win/lose count 1.5/2.0. Average score (-0.5)\n",
            "Win/lose count 2.5/3.0. Average score (-0.5)\n",
            "Win/lose count 2.0/6.0. Average score (-0.6842105263157895)\n",
            "Win/lose count 4.5/2.0. Average score (-0.525)\n",
            "Win/lose count 4.5/4.0. Average score (-0.47619047619047616)\n",
            "Win/lose count 2.0/1.0. Average score (-0.4090909090909091)\n",
            "Win/lose count 2.5/1.0. Average score (-0.32608695652173914)\n",
            "Win/lose count 0.5/3.0. Average score (-0.4166666666666667)\n",
            "Win/lose count 2.5/4.0. Average score (-0.46)\n",
            "Win/lose count 1.5/3.0. Average score (-0.5)\n",
            "Win/lose count 2.0/2.0. Average score (-0.48148148148148145)\n",
            "Win/lose count 4.5/6.0. Average score (-0.5178571428571429)\n",
            "Win/lose count 1.5/2.0. Average score (-0.5172413793103449)\n",
            "Win/lose count 3.0/3.0. Average score (-0.5)\n",
            "Final score: -0.5\n",
            "Test of the FC\n",
            "Win/lose count 3.0/7.0. Average score (-4.0)\n",
            "Win/lose count 3.0/4.0. Average score (-2.5)\n",
            "Win/lose count 4.5/1.0. Average score (-0.5)\n",
            "Win/lose count 8.0/5.0. Average score (0.375)\n",
            "Win/lose count 3.5/4.0. Average score (0.2)\n",
            "Win/lose count 2.0/6.0. Average score (-0.5)\n",
            "Win/lose count 2.5/2.0. Average score (-0.35714285714285715)\n",
            "Win/lose count 5.0/6.0. Average score (-0.4375)\n",
            "Win/lose count 1.5/3.0. Average score (-0.5555555555555556)\n",
            "Win/lose count 1.5/6.0. Average score (-0.95)\n",
            "Win/lose count 4.5/8.0. Average score (-1.1818181818181819)\n",
            "Win/lose count 2.0/5.0. Average score (-1.3333333333333333)\n",
            "Win/lose count 4.5/6.0. Average score (-1.3461538461538463)\n",
            "Win/lose count 1.0/3.0. Average score (-1.3928571428571428)\n",
            "Win/lose count 1.0/0. Average score (-1.2333333333333334)\n",
            "Win/lose count 1.5/4.0. Average score (-1.3125)\n",
            "Win/lose count 2.0/7.0. Average score (-1.5294117647058822)\n",
            "Win/lose count 1.0/6.0. Average score (-1.7222222222222223)\n",
            "Win/lose count 2.0/6.0. Average score (-1.8421052631578947)\n",
            "Win/lose count 1.0/2.0. Average score (-1.8)\n",
            "Win/lose count 3.0/2.0. Average score (-1.6666666666666667)\n",
            "Win/lose count 0.5/4.0. Average score (-1.75)\n",
            "Win/lose count 3.5/4.0. Average score (-1.6956521739130435)\n",
            "Win/lose count 1.5/2.0. Average score (-1.6458333333333333)\n",
            "Win/lose count 3.0/5.0. Average score (-1.66)\n",
            "Win/lose count 5.0/3.0. Average score (-1.5192307692307692)\n",
            "Win/lose count 3.0/1.0. Average score (-1.3888888888888888)\n",
            "Win/lose count 4.5/9.0. Average score (-1.5)\n",
            "Win/lose count 2.0/2.0. Average score (-1.4482758620689655)\n",
            "Win/lose count 3.5/5.0. Average score (-1.45)\n",
            "Final score: -1.45\n"
          ],
          "name": "stdout"
        }
      ]
    },
    {
      "cell_type": "code",
      "metadata": {
        "id": "9fbh-h_BbZ3t",
        "colab_type": "code",
        "outputId": "0f2002bc-48a3-48c0-c6af-e33f5ccab687",
        "colab": {
          "base_uri": "https://localhost:8080/",
          "height": 293
        }
      },
      "source": [
        "HTML(display_videos('cnn_test10.mp4'))"
      ],
      "execution_count": 39,
      "outputs": [
        {
          "output_type": "execute_result",
          "data": {
            "text/html": [
              "<video alt=\"test\" controls>\n",
              "                <source src=\"data:video/mp4;base64,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\" type=\"video/mp4\" />\n",
              "             </video>"
            ],
            "text/plain": [
              "<IPython.core.display.HTML object>"
            ]
          },
          "metadata": {
            "tags": []
          },
          "execution_count": 39
        }
      ]
    },
    {
      "cell_type": "code",
      "metadata": {
        "id": "8qnwF091bZ3y",
        "colab_type": "code",
        "outputId": "fb29f82e-0eec-4d24-88f9-b6a6d2fd2290",
        "colab": {
          "base_uri": "https://localhost:8080/",
          "height": 293
        }
      },
      "source": [
        "HTML(display_videos('fc_test10.mp4'))"
      ],
      "execution_count": 40,
      "outputs": [
        {
          "output_type": "execute_result",
          "data": {
            "text/html": [
              "<video alt=\"test\" controls>\n",
              "                <source src=\"data:video/mp4;base64,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\" type=\"video/mp4\" />\n",
              "             </video>"
            ],
            "text/plain": [
              "<IPython.core.display.HTML object>"
            ]
          },
          "metadata": {
            "tags": []
          },
          "execution_count": 40
        }
      ]
    },
    {
      "cell_type": "markdown",
      "metadata": {
        "id": "C-eiD1bIbZ34",
        "colab_type": "text"
      },
      "source": [
        "The policy returned by the CNN architecture seems more performant than the one return by the fully-connected architecture, based on the scores we get. However, after several tests, it would appear that the CNN architecture also requires more training to be performant... \\\\\n",
        "\n",
        "However, here, both mehods fail to deliver very satisfying results : the most obvious problem being that, when the agent is \"far\" from a cheese, it gets stuck in a loop and does not explore its environment anymore. We observe however that this behaviour is improved when the temperature is increased."
      ]
    },
    {
      "cell_type": "markdown",
      "metadata": {
        "id": "ZAd1Mme8bZ35",
        "colab_type": "text"
      },
      "source": [
        "***\n",
        "\n",
        "The algorithm tends to not explore the map which can be an issue. We propose two ideas in order to encourage exploration:\n",
        "1. Incorporating a decreasing $\\epsilon$-greedy exploration. You can use the method ```set_epsilon```\n",
        "2. Append via the environment a new state that describes if a cell has been visited or not\n",
        "\n",
        "***\n",
        "__Question 10__ Design a new ```train_explore``` function and environment class ```EnvironmentExploring``` to tackle the issue of exploration.\n",
        "\n"
      ]
    },
    {
      "cell_type": "code",
      "metadata": {
        "id": "55-0qbsUbZ36",
        "colab_type": "code",
        "outputId": "9f56a7dd-8abd-4101-ebf5-1f14df9b62d9",
        "colab": {
          "base_uri": "https://localhost:8080/",
          "height": 229
        }
      },
      "source": [
        "def train_explore(agent,env,epoch,prefix=''):\n",
        "    pass\n",
        "        \n",
        "class EnvironmentExploring(object):\n",
        "    def __init__(self, grid_size=10, max_time=500, temperature=0.1):\n",
        "        pass\n",
        "    \n",
        "## use those samples of code:\n",
        "#In train explore:\n",
        "state, reward, game_over = env.act(action, train=True)\n",
        "\n",
        "## In Environment exploring:\n",
        "# You will have to change n_state to 3 because you will use one more layer!\n",
        "reward = 0\n",
        "if train:\n",
        "    reward = -self.malus_position[self.x, self.y]\n",
        "self.malus_position[self.x, self.y] = 0.1\n",
        "\n",
        "reward = reward + self.board[self.x, self.y]\n",
        "# 3 \"feature\" states instead of 2\n",
        "state = np.concatenate((self.malus_position.reshape(self.grid_size, self.grid_size,1),\n",
        "                                self.board.reshape(self.grid_size, self.grid_size,1),\n",
        "                        self.position.reshape(self.grid_size, self.grid_size,1)),axis=2)"
      ],
      "execution_count": 41,
      "outputs": [
        {
          "output_type": "error",
          "ename": "NameError",
          "evalue": "ignored",
          "traceback": [
            "\u001b[0;31m---------------------------------------------------------------------------\u001b[0m",
            "\u001b[0;31mNameError\u001b[0m                                 Traceback (most recent call last)",
            "\u001b[0;32m<ipython-input-41-7e87314b82d9>\u001b[0m in \u001b[0;36m<module>\u001b[0;34m()\u001b[0m\n\u001b[1;32m      8\u001b[0m \u001b[0;31m## use those samples of code:\u001b[0m\u001b[0;34m\u001b[0m\u001b[0;34m\u001b[0m\u001b[0;34m\u001b[0m\u001b[0m\n\u001b[1;32m      9\u001b[0m \u001b[0;31m#In train explore:\u001b[0m\u001b[0;34m\u001b[0m\u001b[0;34m\u001b[0m\u001b[0;34m\u001b[0m\u001b[0m\n\u001b[0;32m---> 10\u001b[0;31m \u001b[0mstate\u001b[0m\u001b[0;34m,\u001b[0m \u001b[0mreward\u001b[0m\u001b[0;34m,\u001b[0m \u001b[0mgame_over\u001b[0m \u001b[0;34m=\u001b[0m \u001b[0menv\u001b[0m\u001b[0;34m.\u001b[0m\u001b[0mact\u001b[0m\u001b[0;34m(\u001b[0m\u001b[0maction\u001b[0m\u001b[0;34m,\u001b[0m \u001b[0mtrain\u001b[0m\u001b[0;34m=\u001b[0m\u001b[0;32mTrue\u001b[0m\u001b[0;34m)\u001b[0m\u001b[0;34m\u001b[0m\u001b[0;34m\u001b[0m\u001b[0m\n\u001b[0m\u001b[1;32m     11\u001b[0m \u001b[0;34m\u001b[0m\u001b[0m\n\u001b[1;32m     12\u001b[0m \u001b[0;31m## In Environment exploring:\u001b[0m\u001b[0;34m\u001b[0m\u001b[0;34m\u001b[0m\u001b[0;34m\u001b[0m\u001b[0m\n",
            "\u001b[0;31mNameError\u001b[0m: name 'action' is not defined"
          ]
        }
      ]
    },
    {
      "cell_type": "code",
      "metadata": {
        "id": "axtjDNfibZ4A",
        "colab_type": "code",
        "colab": {}
      },
      "source": [
        "# Training\n",
        "env = EnvironmentExploring(grid_size=size, max_time=T, temperature=0.3)\n",
        "agent = DQN_CNN(size, lr=.1, epsilon = 0.1, memory_size=2000, batch_size = 32,n_state=3)\n",
        "train_explore(agent, env, epochs_train, prefix='cnn_train_explore')\n",
        "HTML(display_videos('cnn_train_explore10.mp4'))"
      ],
      "execution_count": 0,
      "outputs": []
    },
    {
      "cell_type": "code",
      "metadata": {
        "id": "f09SOMq6bZ4H",
        "colab_type": "code",
        "colab": {}
      },
      "source": [
        "# Evaluation\n",
        "test(agent,env,epochs_test,prefix='cnn_test_explore')\n",
        "HTML(display_videos('cnn_test_explore10.mp4'))"
      ],
      "execution_count": 0,
      "outputs": []
    },
    {
      "cell_type": "markdown",
      "metadata": {
        "id": "fQiEIdB_bZ4Y",
        "colab_type": "text"
      },
      "source": [
        "***\n",
        "***\n",
        "__BONUS question__ Use the expert DQN from the previous question to generate some winning games. Train a model that mimicks its behavior. Compare the performances."
      ]
    },
    {
      "cell_type": "markdown",
      "metadata": {
        "id": "CfxVFLJ3bZ4k",
        "colab_type": "text"
      },
      "source": [
        ""
      ]
    },
    {
      "cell_type": "markdown",
      "metadata": {
        "id": "ia48YRicbZ4n",
        "colab_type": "text"
      },
      "source": [
        "***"
      ]
    }
  ]
}